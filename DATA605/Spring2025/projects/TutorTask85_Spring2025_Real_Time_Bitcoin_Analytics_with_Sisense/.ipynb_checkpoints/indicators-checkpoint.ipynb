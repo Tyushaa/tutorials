{
 "cells": [
  {
   "cell_type": "code",
   "execution_count": 4,
   "id": "35edcb02",
   "metadata": {
    "ExecuteTime": {
     "end_time": "2025-05-15T02:12:56.121404Z",
     "start_time": "2025-05-15T02:12:56.117786Z"
    }
   },
   "outputs": [],
   "source": [
    "# Indicators"
   ]
  },
  {
   "cell_type": "code",
   "execution_count": 5,
   "id": "a5e82cb0",
   "metadata": {
    "ExecuteTime": {
     "end_time": "2025-05-15T02:13:12.599162Z",
     "start_time": "2025-05-15T02:12:56.125052Z"
    }
   },
   "outputs": [
    {
     "name": "stdout",
     "output_type": "stream",
     "text": [
      "Collecting sqlalchemy\n",
      "  Downloading sqlalchemy-2.0.41-cp38-cp38-manylinux_2_17_x86_64.manylinux2014_x86_64.whl.metadata (9.6 kB)\n",
      "Collecting pandas\n",
      "  Downloading pandas-2.0.3-cp38-cp38-manylinux_2_17_x86_64.manylinux2014_x86_64.whl.metadata (18 kB)\n",
      "Collecting python-dotenv\n",
      "  Downloading python_dotenv-1.0.1-py3-none-any.whl.metadata (23 kB)\n",
      "Requirement already satisfied: typing-extensions>=4.6.0 in /usr/local/lib/python3.8/dist-packages (from sqlalchemy) (4.13.2)\n",
      "Collecting greenlet>=1 (from sqlalchemy)\n",
      "  Downloading greenlet-3.1.1-cp38-cp38-manylinux_2_24_x86_64.manylinux_2_28_x86_64.whl.metadata (3.8 kB)\n",
      "Requirement already satisfied: python-dateutil>=2.8.2 in /usr/local/lib/python3.8/dist-packages (from pandas) (2.9.0.post0)\n",
      "Collecting pytz>=2020.1 (from pandas)\n",
      "  Downloading pytz-2025.2-py2.py3-none-any.whl.metadata (22 kB)\n",
      "Collecting tzdata>=2022.1 (from pandas)\n",
      "  Downloading tzdata-2025.2-py2.py3-none-any.whl.metadata (1.4 kB)\n",
      "Collecting numpy>=1.20.3 (from pandas)\n",
      "  Downloading numpy-1.24.4-cp38-cp38-manylinux_2_17_x86_64.manylinux2014_x86_64.whl.metadata (5.6 kB)\n",
      "Requirement already satisfied: six>=1.5 in /usr/local/lib/python3.8/dist-packages (from python-dateutil>=2.8.2->pandas) (1.17.0)\n",
      "Downloading sqlalchemy-2.0.41-cp38-cp38-manylinux_2_17_x86_64.manylinux2014_x86_64.whl (3.2 MB)\n",
      "\u001b[2K   \u001b[90m━━━━━━━━━━━━━━━━━━━━━━━━━━━━━━━━━━━━━━━━\u001b[0m \u001b[32m3.2/3.2 MB\u001b[0m \u001b[31m7.7 MB/s\u001b[0m eta \u001b[36m0:00:00\u001b[0ma \u001b[36m0:00:01\u001b[0m\n",
      "\u001b[?25hDownloading pandas-2.0.3-cp38-cp38-manylinux_2_17_x86_64.manylinux2014_x86_64.whl (12.4 MB)\n",
      "\u001b[2K   \u001b[90m━━━━━━━━━━━━━━━━━━━━━━━━━━━━━━━━━━━━━━━━\u001b[0m \u001b[32m12.4/12.4 MB\u001b[0m \u001b[31m11.1 MB/s\u001b[0m eta \u001b[36m0:00:00\u001b[0m00:01\u001b[0m0:01\u001b[0m\n",
      "\u001b[?25hDownloading python_dotenv-1.0.1-py3-none-any.whl (19 kB)\n",
      "Downloading greenlet-3.1.1-cp38-cp38-manylinux_2_24_x86_64.manylinux_2_28_x86_64.whl (605 kB)\n",
      "\u001b[2K   \u001b[90m━━━━━━━━━━━━━━━━━━━━━━━━━━━━━━━━━━━━━━━━\u001b[0m \u001b[32m606.0/606.0 kB\u001b[0m \u001b[31m5.6 MB/s\u001b[0m eta \u001b[36m0:00:00\u001b[0m\n",
      "\u001b[?25hDownloading numpy-1.24.4-cp38-cp38-manylinux_2_17_x86_64.manylinux2014_x86_64.whl (17.3 MB)\n",
      "\u001b[2K   \u001b[90m━━━━━━━━━━━━━━━━━━━━━━━━━━━━━━━━━━━━━━━━\u001b[0m \u001b[32m17.3/17.3 MB\u001b[0m \u001b[31m6.3 MB/s\u001b[0m eta \u001b[36m0:00:00\u001b[0m00:01\u001b[0m00:01\u001b[0m\n",
      "\u001b[?25hDownloading pytz-2025.2-py2.py3-none-any.whl (509 kB)\n",
      "Downloading tzdata-2025.2-py2.py3-none-any.whl (347 kB)\n",
      "Installing collected packages: pytz, tzdata, python-dotenv, numpy, greenlet, sqlalchemy, pandas\n",
      "Successfully installed greenlet-3.1.1 numpy-1.24.4 pandas-2.0.3 python-dotenv-1.0.1 pytz-2025.2 sqlalchemy-2.0.41 tzdata-2025.2\n",
      "\u001b[33mWARNING: Running pip as the 'root' user can result in broken permissions and conflicting behaviour with the system package manager, possibly rendering your system unusable. It is recommended to use a virtual environment instead: https://pip.pypa.io/warnings/venv. Use the --root-user-action option if you know what you are doing and want to suppress this warning.\u001b[0m\u001b[33m\n",
      "\u001b[0m"
     ]
    }
   ],
   "source": [
    "! pip install sqlalchemy pandas python-dotenv"
   ]
  },
  {
   "cell_type": "code",
   "execution_count": 6,
   "id": "e686d2e5",
   "metadata": {
    "ExecuteTime": {
     "end_time": "2025-05-15T02:13:13.267529Z",
     "start_time": "2025-05-15T02:13:12.601566Z"
    }
   },
   "outputs": [],
   "source": [
    "import os\n",
    "from sqlalchemy import create_engine, text\n",
    "import pandas as pd\n",
    "from dotenv import load_dotenv"
   ]
  },
  {
   "cell_type": "code",
   "execution_count": 7,
   "id": "56e519cd",
   "metadata": {
    "ExecuteTime": {
     "end_time": "2025-05-15T02:13:13.277689Z",
     "start_time": "2025-05-15T02:13:13.269705Z"
    }
   },
   "outputs": [],
   "source": [
    "# Load environment variables from .env\n",
    "load_dotenv()\n",
    "DATABASE_URL = os.getenv('DATABASE_URL')"
   ]
  },
  {
   "cell_type": "code",
   "execution_count": 8,
   "id": "6ad18646",
   "metadata": {
    "ExecuteTime": {
     "end_time": "2025-05-15T02:13:13.306953Z",
     "start_time": "2025-05-15T02:13:13.280723Z"
    }
   },
   "outputs": [],
   "source": [
    "# SQLAlchemy needs the new prefix\n",
    "if DATABASE_URL.startswith(\"postgres://\"):\n",
    "    DATABASE_URL = DATABASE_URL.replace(\"postgres://\", \"postgresql://\", 1)\n"
   ]
  },
  {
   "cell_type": "code",
   "execution_count": 9,
   "id": "f754ebcb",
   "metadata": {
    "ExecuteTime": {
     "end_time": "2025-05-15T02:13:13.364715Z",
     "start_time": "2025-05-15T02:13:13.309079Z"
    }
   },
   "outputs": [],
   "source": [
    "# Create SQLAlchemy engine\n",
    "engine = create_engine(DATABASE_URL)"
   ]
  },
  {
   "cell_type": "code",
   "execution_count": 10,
   "id": "08923d13",
   "metadata": {
    "ExecuteTime": {
     "end_time": "2025-05-15T02:13:17.347902Z",
     "start_time": "2025-05-15T02:13:13.366195Z"
    }
   },
   "outputs": [],
   "source": [
    "# Helper: read whole table into DataFrame\n",
    "with engine.connect() as conn:\n",
    "    df = pd.read_sql(text(\"SELECT date, open_usd, high_usd, low_usd, close_usd, volume_usd FROM bitcion_daily_data ORDER BY date\"), conn)"
   ]
  },
  {
   "cell_type": "code",
   "execution_count": 11,
   "id": "d8867238",
   "metadata": {
    "ExecuteTime": {
     "end_time": "2025-05-15T02:13:17.363455Z",
     "start_time": "2025-05-15T02:13:17.350998Z"
    }
   },
   "outputs": [],
   "source": [
    "# Ensure date is datetime and sort\n",
    "df['date'] = pd.to_datetime(df['date'], dayfirst=False)\n",
    "df = df.sort_values('date').set_index('date')"
   ]
  },
  {
   "cell_type": "code",
   "execution_count": 12,
   "id": "1a0c623a",
   "metadata": {
    "ExecuteTime": {
     "end_time": "2025-05-15T02:13:17.380534Z",
     "start_time": "2025-05-15T02:13:17.367877Z"
    }
   },
   "outputs": [],
   "source": [
    "# 1) MACD (12, 26, signal=9)\n",
    "ema_short = df['close_usd'].ewm(span=12, adjust=False).mean()\n",
    "ema_long  = df['close_usd'].ewm(span=26, adjust=False).mean()\n",
    "macd_line = ema_short - ema_long\n",
    "signal    = macd_line.ewm(span=9, adjust=False).mean()\n",
    "macd_df = pd.DataFrame({\n",
    "    'date': macd_line.index,\n",
    "    'macd': macd_line.values,\n",
    "    'signal': signal.values,\n",
    "    'histogram': (macd_line - signal).values,\n",
    "})\n",
    "macd_df = macd_df.set_index('date')"
   ]
  },
  {
   "cell_type": "code",
   "execution_count": 13,
   "id": "c1e2d40d",
   "metadata": {
    "ExecuteTime": {
     "end_time": "2025-05-15T02:13:17.403973Z",
     "start_time": "2025-05-15T02:13:17.384362Z"
    }
   },
   "outputs": [],
   "source": [
    "# 2) RSI (14)\n",
    "delta = df['close_usd'].diff()\n",
    "gain = delta.clip(lower=0)\n",
    "loss = -delta.clip(upper=0)\n",
    "roll_up   = gain.rolling(window=14).mean()\n",
    "roll_down = loss.rolling(window=14).mean()\n",
    "rs = roll_up / roll_down\n",
    "rsi = 100 - (100 / (1 + rs))\n",
    "rsi_df = pd.DataFrame({'date': rsi.index, 'rsi': rsi.values}).set_index('date')"
   ]
  },
  {
   "cell_type": "code",
   "execution_count": 14,
   "id": "c35ccbc7",
   "metadata": {
    "ExecuteTime": {
     "end_time": "2025-05-15T02:13:17.417065Z",
     "start_time": "2025-05-15T02:13:17.408424Z"
    }
   },
   "outputs": [],
   "source": [
    "# 3) Bollinger Bands (20, 2)\n",
    "rolling_mean = df['close_usd'].rolling(window=20).mean()\n",
    "rolling_std  = df['close_usd'].rolling(window=20).std()\n",
    "bb_upper = rolling_mean + 2 * rolling_std\n",
    "bb_lower = rolling_mean - 2 * rolling_std\n",
    "bb_df = pd.DataFrame({\n",
    "    'date': df.index,\n",
    "    'bb_middle': rolling_mean.values,\n",
    "    'bb_upper': bb_upper.values,\n",
    "    'bb_lower': bb_lower.values,\n",
    "}).set_index('date')"
   ]
  },
  {
   "cell_type": "code",
   "execution_count": 15,
   "id": "b2b61193",
   "metadata": {
    "ExecuteTime": {
     "end_time": "2025-05-15T02:13:30.870378Z",
     "start_time": "2025-05-15T02:13:17.421071Z"
    }
   },
   "outputs": [
    {
     "name": "stdout",
     "output_type": "stream",
     "text": [
      "MACD, RSI, and Bollinger Bands tables have been created/updated successfully.\n"
     ]
    }
   ],
   "source": [
    "# Push each DataFrame to its own table in Postgres\n",
    "with engine.connect() as conn:\n",
    "    macd_df.to_sql('bitcoin_macd', conn, if_exists='replace', index=True, index_label='date')\n",
    "    rsi_df.to_sql('bitcoin_rsi', conn, if_exists='replace', index=True, index_label='date')\n",
    "    bb_df.to_sql('bitcoin_bb', conn, if_exists='replace', index=True, index_label='date')\n",
    "\n",
    "print(\"MACD, RSI, and Bollinger Bands tables have been created/updated successfully.\")"
   ]
  }
 ],
 "metadata": {
  "kernelspec": {
   "display_name": "Python 3 (ipykernel)",
   "language": "python",
   "name": "python3"
  },
  "language_info": {
   "codemirror_mode": {
    "name": "ipython",
    "version": 3
   },
   "file_extension": ".py",
   "mimetype": "text/x-python",
   "name": "python",
   "nbconvert_exporter": "python",
   "pygments_lexer": "ipython3",
   "version": "3.8.10"
  },
  "toc": {
   "base_numbering": 1,
   "nav_menu": {},
   "number_sections": true,
   "sideBar": true,
   "skip_h1_title": false,
   "title_cell": "Table of Contents",
   "title_sidebar": "Contents",
   "toc_cell": false,
   "toc_position": {},
   "toc_section_display": true,
   "toc_window_display": false
  }
 },
 "nbformat": 4,
 "nbformat_minor": 5
}
