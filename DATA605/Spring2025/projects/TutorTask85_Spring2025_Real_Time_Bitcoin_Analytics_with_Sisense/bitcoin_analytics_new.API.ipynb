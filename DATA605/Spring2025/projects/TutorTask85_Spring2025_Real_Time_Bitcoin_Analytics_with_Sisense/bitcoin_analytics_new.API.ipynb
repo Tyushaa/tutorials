{
 "cells": [
  {
   "cell_type": "markdown",
   "id": "20b4ab3c",
   "metadata": {},
   "source": [
    "# Bitcoin Analysis API\n",
    "\n",
    "This notebook demonstrates the **API layer** provided by `bitcoin_analysis_utils.py`.  \n",
    "We’ll load configuration, show how to fetch minute‐ and daily‐level data, and how to initialize/update our PostgreSQL tables programmatically.\n",
    "\n",
    "**Contents**:\n",
    " 1. Setup and imports\n",
    " 2. Fetching minute-level and daily data\n",
    " 3. Initializing and updating database tables\n",
    " 4. Loading data from the database\n",
    " 5. Fitting and forecasting with SARIMAX\n"
   ]
  },
  {
   "cell_type": "markdown",
   "id": "047ed394",
   "metadata": {},
   "source": [
    "##  Install & Imports\n"
   ]
  },
  {
   "cell_type": "code",
   "execution_count": 40,
   "id": "0e86bb79",
   "metadata": {
    "ExecuteTime": {
     "end_time": "2025-05-14T05:21:46.647853Z",
     "start_time": "2025-05-14T05:21:45.328838Z"
    }
   },
   "outputs": [
    {
     "name": "stdout",
     "output_type": "stream",
     "text": [
      "Requirement already satisfied: python-dotenv in /usr/local/lib/python3.8/dist-packages (1.0.1)\n",
      "Requirement already satisfied: requests in /usr/local/lib/python3.8/dist-packages (2.32.3)\n",
      "Requirement already satisfied: pandas in /usr/local/lib/python3.8/dist-packages (2.0.3)\n",
      "Requirement already satisfied: sqlalchemy in /usr/local/lib/python3.8/dist-packages (2.0.40)\n",
      "Requirement already satisfied: psycopg2-binary in /usr/local/lib/python3.8/dist-packages (2.9.10)\n",
      "Requirement already satisfied: statsmodels in /usr/local/lib/python3.8/dist-packages (0.14.1)\n",
      "Requirement already satisfied: matplotlib in /usr/local/lib/python3.8/dist-packages (3.7.5)\n",
      "Requirement already satisfied: charset-normalizer<4,>=2 in /usr/local/lib/python3.8/dist-packages (from requests) (3.4.2)\n",
      "Requirement already satisfied: idna<4,>=2.5 in /usr/local/lib/python3.8/dist-packages (from requests) (3.10)\n",
      "Requirement already satisfied: urllib3<3,>=1.21.1 in /usr/local/lib/python3.8/dist-packages (from requests) (2.2.3)\n",
      "Requirement already satisfied: certifi>=2017.4.17 in /usr/local/lib/python3.8/dist-packages (from requests) (2025.4.26)\n",
      "Requirement already satisfied: python-dateutil>=2.8.2 in /usr/local/lib/python3.8/dist-packages (from pandas) (2.9.0.post0)\n",
      "Requirement already satisfied: pytz>=2020.1 in /usr/local/lib/python3.8/dist-packages (from pandas) (2025.2)\n",
      "Requirement already satisfied: tzdata>=2022.1 in /usr/local/lib/python3.8/dist-packages (from pandas) (2025.2)\n",
      "Requirement already satisfied: numpy>=1.20.3 in /usr/local/lib/python3.8/dist-packages (from pandas) (1.24.4)\n",
      "Requirement already satisfied: typing-extensions>=4.6.0 in /usr/local/lib/python3.8/dist-packages (from sqlalchemy) (4.13.2)\n",
      "Requirement already satisfied: greenlet>=1 in /usr/local/lib/python3.8/dist-packages (from sqlalchemy) (3.1.1)\n",
      "Requirement already satisfied: scipy!=1.9.2,>=1.4 in /usr/local/lib/python3.8/dist-packages (from statsmodels) (1.10.1)\n",
      "Requirement already satisfied: patsy>=0.5.4 in /usr/local/lib/python3.8/dist-packages (from statsmodels) (1.0.1)\n",
      "Requirement already satisfied: packaging>=21.3 in /usr/local/lib/python3.8/dist-packages (from statsmodels) (25.0)\n",
      "Requirement already satisfied: contourpy>=1.0.1 in /usr/local/lib/python3.8/dist-packages (from matplotlib) (1.1.1)\n",
      "Requirement already satisfied: cycler>=0.10 in /usr/local/lib/python3.8/dist-packages (from matplotlib) (0.12.1)\n",
      "Requirement already satisfied: fonttools>=4.22.0 in /usr/local/lib/python3.8/dist-packages (from matplotlib) (4.57.0)\n",
      "Requirement already satisfied: kiwisolver>=1.0.1 in /usr/local/lib/python3.8/dist-packages (from matplotlib) (1.4.7)\n",
      "Requirement already satisfied: pillow>=6.2.0 in /usr/local/lib/python3.8/dist-packages (from matplotlib) (10.4.0)\n",
      "Requirement already satisfied: pyparsing>=2.3.1 in /usr/local/lib/python3.8/dist-packages (from matplotlib) (3.1.4)\n",
      "Requirement already satisfied: importlib-resources>=3.2.0 in /usr/local/lib/python3.8/dist-packages (from matplotlib) (6.4.5)\n",
      "Requirement already satisfied: zipp>=3.1.0 in /usr/local/lib/python3.8/dist-packages (from importlib-resources>=3.2.0->matplotlib) (3.20.2)\n",
      "Requirement already satisfied: six>=1.5 in /usr/local/lib/python3.8/dist-packages (from python-dateutil>=2.8.2->pandas) (1.17.0)\n",
      "\u001b[33mWARNING: Running pip as the 'root' user can result in broken permissions and conflicting behaviour with the system package manager, possibly rendering your system unusable. It is recommended to use a virtual environment instead: https://pip.pypa.io/warnings/venv. Use the --root-user-action option if you know what you are doing and want to suppress this warning.\u001b[0m\u001b[33m\n",
      "\u001b[0m"
     ]
    }
   ],
   "source": [
    "! pip install python-dotenv requests pandas sqlalchemy psycopg2-binary statsmodels matplotlib\n"
   ]
  },
  {
   "cell_type": "code",
   "execution_count": 41,
   "id": "3f8563e1",
   "metadata": {
    "ExecuteTime": {
     "end_time": "2025-05-14T05:21:46.710792Z",
     "start_time": "2025-05-14T05:21:46.657070Z"
    }
   },
   "outputs": [
    {
     "data": {
      "text/plain": [
       "True"
      ]
     },
     "execution_count": 41,
     "metadata": {},
     "output_type": "execute_result"
    }
   ],
   "source": [
    "import os\n",
    "from dotenv import load_dotenv\n",
    "from sqlalchemy import inspect, text\n",
    "import bitcoin_analytics_utils as bau\n",
    "\n",
    "load_dotenv()"
   ]
  },
  {
   "cell_type": "markdown",
   "id": "f7c93a8d",
   "metadata": {},
   "source": [
    "# 1.1 Verify Environment"
   ]
  },
  {
   "cell_type": "code",
   "execution_count": 42,
   "id": "94c09b30",
   "metadata": {
    "ExecuteTime": {
     "end_time": "2025-05-14T05:21:46.737992Z",
     "start_time": "2025-05-14T05:21:46.714184Z"
    }
   },
   "outputs": [
    {
     "name": "stdout",
     "output_type": "stream",
     "text": [
      "API_KEY present: True\n",
      "DATABASE_URL present: True\n"
     ]
    }
   ],
   "source": [
    "print(\"API_KEY present:\", bool(os.getenv(\"API_KEY\")))\n",
    "print(\"DATABASE_URL present:\", bool(os.getenv(\"DATABASE_URL\")))"
   ]
  },
  {
   "cell_type": "markdown",
   "id": "cff30b56",
   "metadata": {},
   "source": [
    "# 2.1 Fetch a single chunk of 10 minutes ending *now*"
   ]
  },
  {
   "cell_type": "code",
   "execution_count": 43,
   "id": "ffb8b363",
   "metadata": {
    "ExecuteTime": {
     "end_time": "2025-05-14T05:21:48.642803Z",
     "start_time": "2025-05-14T05:21:46.741137Z"
    },
    "scrolled": false
   },
   "outputs": [
    {
     "name": "stdout",
     "output_type": "stream",
     "text": [
      "            timestamp  price_usd   volume_usd  volume_btc\n",
      "0 2025-05-14 05:11:00  103757.29    144107.66       1.389\n",
      "1 2025-05-14 05:12:00  103721.06  29097905.25     280.540\n",
      "2 2025-05-14 05:13:00  103760.37    314127.81       3.028\n",
      "3 2025-05-14 05:14:00  103750.40    193415.40       1.864\n",
      "4 2025-05-14 05:15:00  103765.12    185006.06       1.783\n"
     ]
    }
   ],
   "source": [
    "df_chunk = bau.fetch_minute_data(limit=10)\n",
    "print(df_chunk.head())"
   ]
  },
  {
   "cell_type": "markdown",
   "id": "81ca0311",
   "metadata": {},
   "source": [
    "# 2.2 Backfill the last N days (configured in utils)"
   ]
  },
  {
   "cell_type": "code",
   "execution_count": 44,
   "id": "307b04f1",
   "metadata": {
    "ExecuteTime": {
     "end_time": "2025-05-14T05:21:51.535176Z",
     "start_time": "2025-05-14T05:21:48.648914Z"
    }
   },
   "outputs": [
    {
     "name": "stdout",
     "output_type": "stream",
     "text": [
      "Backfilled 2882 rows from the past 2 days\n"
     ]
    }
   ],
   "source": [
    "df_hist = bau.fetch_full_historical_minutes()\n",
    "print(f\"Backfilled {len(df_hist)} rows from the past {bau.HISTORICAL_DAYS} days\")"
   ]
  },
  {
   "cell_type": "markdown",
   "id": "401493d6",
   "metadata": {},
   "source": [
    "# 3.1 Ensure table exists (will backfill if missing)"
   ]
  },
  {
   "cell_type": "code",
   "execution_count": 45,
   "id": "090ecdf8",
   "metadata": {
    "ExecuteTime": {
     "end_time": "2025-05-14T05:21:52.109041Z",
     "start_time": "2025-05-14T05:21:51.542797Z"
    }
   },
   "outputs": [],
   "source": [
    "bau.ensure_minute_table()"
   ]
  },
  {
   "cell_type": "markdown",
   "id": "91a4186c",
   "metadata": {},
   "source": [
    "# 3.2 Append any new bars (and prune old rows)"
   ]
  },
  {
   "cell_type": "code",
   "execution_count": 46,
   "id": "0fb9d92d",
   "metadata": {
    "ExecuteTime": {
     "end_time": "2025-05-14T05:21:55.525160Z",
     "start_time": "2025-05-14T05:21:52.113730Z"
    }
   },
   "outputs": [],
   "source": [
    "bau.update_minute_table()"
   ]
  },
  {
   "cell_type": "markdown",
   "id": "b590abb5",
   "metadata": {},
   "source": [
    "# 4.1 Fetch a single daily bar (most recent close)"
   ]
  },
  {
   "cell_type": "code",
   "execution_count": 47,
   "id": "8f02960e",
   "metadata": {
    "ExecuteTime": {
     "end_time": "2025-05-14T05:21:56.386697Z",
     "start_time": "2025-05-14T05:21:55.527440Z"
    }
   },
   "outputs": [
    {
     "name": "stdout",
     "output_type": "stream",
     "text": [
      "         date   open_usd   high_usd    low_usd  close_usd    volume_usd\n",
      "0  2025-05-13  102802.44  105015.14  101466.16  104136.59  2.105889e+09\n",
      "1  2025-05-14  104136.59  104142.05  103458.96  103787.48  2.802446e+08\n"
     ]
    }
   ],
   "source": [
    "df_day = bau.fetch_daily_data(limit=1)\n",
    "print(df_day)"
   ]
  },
  {
   "cell_type": "markdown",
   "id": "fe73c9af",
   "metadata": {},
   "source": [
    "# 4.2 Backfill a custom number of days (e.g. 30)"
   ]
  },
  {
   "cell_type": "code",
   "execution_count": 48,
   "id": "18abb667",
   "metadata": {
    "ExecuteTime": {
     "end_time": "2025-05-14T05:21:57.447415Z",
     "start_time": "2025-05-14T05:21:56.388367Z"
    }
   },
   "outputs": [
    {
     "name": "stdout",
     "output_type": "stream",
     "text": [
      "Backfilled 30 days of history\n"
     ]
    }
   ],
   "source": [
    "df_30 = bau.fetch_full_historical_days(total_days=30)\n",
    "print(f\"Backfilled {len(df_30)} days of history\")"
   ]
  },
  {
   "cell_type": "markdown",
   "id": "d822aa1e",
   "metadata": {},
   "source": [
    "# 5.1 Ensure daily table exists (will default to 365 days backfill)"
   ]
  },
  {
   "cell_type": "code",
   "execution_count": 49,
   "id": "5ee4e715",
   "metadata": {
    "ExecuteTime": {
     "end_time": "2025-05-14T05:21:58.031847Z",
     "start_time": "2025-05-14T05:21:57.457529Z"
    }
   },
   "outputs": [],
   "source": [
    "bau.ensure_daily_table()\n"
   ]
  },
  {
   "cell_type": "markdown",
   "id": "2c055813",
   "metadata": {},
   "source": [
    "# 5.2 Append the latest daily bar if it’s new"
   ]
  },
  {
   "cell_type": "code",
   "execution_count": 50,
   "id": "c9cd2f26",
   "metadata": {
    "ExecuteTime": {
     "end_time": "2025-05-14T05:22:00.044385Z",
     "start_time": "2025-05-14T05:21:58.043919Z"
    }
   },
   "outputs": [],
   "source": [
    "bau.update_daily_table()"
   ]
  },
  {
   "cell_type": "markdown",
   "id": "0933875b",
   "metadata": {},
   "source": [
    "# 6.1 Load daily close series from DB"
   ]
  },
  {
   "cell_type": "code",
   "execution_count": 51,
   "id": "38363c62",
   "metadata": {
    "ExecuteTime": {
     "end_time": "2025-05-14T05:22:00.985553Z",
     "start_time": "2025-05-14T05:22:00.047556Z"
    }
   },
   "outputs": [
    {
     "name": "stdout",
     "output_type": "stream",
     "text": [
      "Loaded 1828 daily closing prices\n"
     ]
    }
   ],
   "source": [
    "series = bau.load_daily_from_db()\n",
    "print(f\"Loaded {len(series)} daily closing prices\")"
   ]
  },
  {
   "cell_type": "markdown",
   "id": "68e128e9",
   "metadata": {},
   "source": [
    "# 6.2 Fit an ARIMA(1,1,1)"
   ]
  },
  {
   "cell_type": "code",
   "execution_count": 52,
   "id": "31ed98e9",
   "metadata": {
    "ExecuteTime": {
     "end_time": "2025-05-14T05:22:01.097774Z",
     "start_time": "2025-05-14T05:22:00.991278Z"
    }
   },
   "outputs": [
    {
     "name": "stderr",
     "output_type": "stream",
     "text": [
      "/usr/local/lib/python3.8/dist-packages/statsmodels/tsa/base/tsa_model.py:473: ValueWarning: No frequency information was provided, so inferred frequency D will be used.\n",
      "  self._init_dates(dates, freq)\n",
      "/usr/local/lib/python3.8/dist-packages/statsmodels/tsa/base/tsa_model.py:473: ValueWarning: No frequency information was provided, so inferred frequency D will be used.\n",
      "  self._init_dates(dates, freq)\n"
     ]
    }
   ],
   "source": [
    "res = bau.fit_sarimax(series, order=(1,1,1))"
   ]
  },
  {
   "cell_type": "markdown",
   "id": "3338f66f",
   "metadata": {},
   "source": [
    "# 6.3 Produce a 14‑day forecast"
   ]
  },
  {
   "cell_type": "code",
   "execution_count": 53,
   "id": "3202b545",
   "metadata": {
    "ExecuteTime": {
     "end_time": "2025-05-14T05:22:01.140866Z",
     "start_time": "2025-05-14T05:22:01.101734Z"
    }
   },
   "outputs": [
    {
     "name": "stdout",
     "output_type": "stream",
     "text": [
      "close_usd            mean  mean_ci_lower  mean_ci_upper\n",
      "2025-05-15  103757.550144  100871.558948  106643.541339\n",
      "2025-05-16  103750.560109   99793.561792  107707.558425\n",
      "2025-05-17  103752.380538   98931.486945  108573.274131\n",
      "2025-05-18  103751.906440   98205.957307  109297.855573\n",
      "2025-05-19  103752.029910   97564.024086  109940.035735\n"
     ]
    }
   ],
   "source": [
    "fc_df = bau.forecast_sarimax(res, steps=14)\n",
    "print(fc_df[['mean', 'mean_ci_lower', 'mean_ci_upper']].head())"
   ]
  },
  {
   "cell_type": "markdown",
   "id": "6dc3e848",
   "metadata": {},
   "source": [
    "### Plotting"
   ]
  },
  {
   "cell_type": "code",
   "execution_count": 57,
   "id": "e7855aa9",
   "metadata": {
    "ExecuteTime": {
     "end_time": "2025-05-14T05:25:08.559488Z",
     "start_time": "2025-05-14T05:25:08.179561Z"
    }
   },
   "outputs": [
    {
     "data": {
      "image/png": "[encoded data removed]",
      "text/plain": [
       "<Figure size 1000x500 with 1 Axes>"
      ]
     },
     "metadata": {},
     "output_type": "display_data"
    }
   ],
   "source": [
    "# compute the six-month window\n",
    "last_historical_date = close_series.index.max()\n",
    "start_date = last_historical_date - pd.DateOffset(months=3)\n",
    "\n",
    "# plot zoomed view\n",
    "plt.figure(figsize=(10, 5))\n",
    "plt.plot(close_series[start_date:], label='Historical (last 3 months)')\n",
    "plt.plot(fc_df['mean'], label='Forecast')\n",
    "plt.fill_between(\n",
    "    fc_df.index,\n",
    "    fc_df['mean_ci_lower'],\n",
    "    fc_df['mean_ci_upper'],\n",
    "    alpha=0.3\n",
    ")\n",
    "plt.xlim(start_date, fc_df.index.max())\n",
    "plt.legend()\n",
    "plt.xlabel('Date')\n",
    "plt.ylabel('Price (USD)')\n",
    "plt.title('BTC Daily Close: Last 3 Months + 14-Day Forecast')\n",
    "plt.tight_layout()\n",
    "plt.show()"
   ]
  },
  {
   "cell_type": "code",
   "execution_count": null,
   "id": "b5ae94f7",
   "metadata": {},
   "outputs": [],
   "source": []
  },
  {
   "cell_type": "code",
   "execution_count": null,
   "id": "f634ac1e",
   "metadata": {},
   "outputs": [],
   "source": []
  }
 ],
 "metadata": {
  "kernelspec": {
   "display_name": "Python 3 (ipykernel)",
   "language": "python",
   "name": "python3"
  },
  "language_info": {
   "codemirror_mode": {
    "name": "ipython",
    "version": 3
   },
   "file_extension": ".py",
   "mimetype": "text/x-python",
   "name": "python",
   "nbconvert_exporter": "python",
   "pygments_lexer": "ipython3",
   "version": "3.8.10"
  },
  "toc": {
   "base_numbering": 1,
   "nav_menu": {},
   "number_sections": true,
   "sideBar": true,
   "skip_h1_title": false,
   "title_cell": "Table of Contents",
   "title_sidebar": "Contents",
   "toc_cell": false,
   "toc_position": {},
   "toc_section_display": true,
   "toc_window_display": false
  }
 },
 "nbformat": 4,
 "nbformat_minor": 5
}
