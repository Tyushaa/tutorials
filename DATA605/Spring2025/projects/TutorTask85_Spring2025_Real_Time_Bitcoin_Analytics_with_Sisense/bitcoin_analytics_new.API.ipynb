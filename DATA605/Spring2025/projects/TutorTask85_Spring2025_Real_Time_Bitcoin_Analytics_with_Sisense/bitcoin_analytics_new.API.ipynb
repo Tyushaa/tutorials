{
 "cells": [
  {
   "cell_type": "markdown",
   "id": "047ed394",
   "metadata": {},
   "source": [
    "##  Install & Imports\n"
   ]
  },
  {
   "cell_type": "code",
   "execution_count": 16,
   "id": "0e86bb79",
   "metadata": {
    "ExecuteTime": {
     "end_time": "2025-05-12T16:53:53.456169Z",
     "start_time": "2025-05-12T16:53:52.289150Z"
    }
   },
   "outputs": [
    {
     "name": "stdout",
     "output_type": "stream",
     "text": [
      "Requirement already satisfied: pandas in /usr/local/lib/python3.8/dist-packages (2.0.3)\n",
      "Requirement already satisfied: sqlalchemy in /usr/local/lib/python3.8/dist-packages (2.0.40)\n",
      "Requirement already satisfied: requests in /usr/local/lib/python3.8/dist-packages (2.32.3)\n",
      "Requirement already satisfied: python-dotenv in /usr/local/lib/python3.8/dist-packages (1.0.1)\n",
      "Requirement already satisfied: python-dateutil>=2.8.2 in /usr/local/lib/python3.8/dist-packages (from pandas) (2.9.0.post0)\n",
      "Requirement already satisfied: pytz>=2020.1 in /usr/local/lib/python3.8/dist-packages (from pandas) (2025.2)\n",
      "Requirement already satisfied: tzdata>=2022.1 in /usr/local/lib/python3.8/dist-packages (from pandas) (2025.2)\n",
      "Requirement already satisfied: numpy>=1.20.3 in /usr/local/lib/python3.8/dist-packages (from pandas) (1.24.4)\n",
      "Requirement already satisfied: typing-extensions>=4.6.0 in /usr/local/lib/python3.8/dist-packages (from sqlalchemy) (4.13.2)\n",
      "Requirement already satisfied: greenlet>=1 in /usr/local/lib/python3.8/dist-packages (from sqlalchemy) (3.1.1)\n",
      "Requirement already satisfied: charset-normalizer<4,>=2 in /usr/local/lib/python3.8/dist-packages (from requests) (3.4.2)\n",
      "Requirement already satisfied: idna<4,>=2.5 in /usr/local/lib/python3.8/dist-packages (from requests) (3.10)\n",
      "Requirement already satisfied: urllib3<3,>=1.21.1 in /usr/local/lib/python3.8/dist-packages (from requests) (2.2.3)\n",
      "Requirement already satisfied: certifi>=2017.4.17 in /usr/local/lib/python3.8/dist-packages (from requests) (2025.4.26)\n",
      "Requirement already satisfied: six>=1.5 in /usr/local/lib/python3.8/dist-packages (from python-dateutil>=2.8.2->pandas) (1.17.0)\n",
      "\u001b[33mWARNING: Running pip as the 'root' user can result in broken permissions and conflicting behaviour with the system package manager, possibly rendering your system unusable. It is recommended to use a virtual environment instead: https://pip.pypa.io/warnings/venv. Use the --root-user-action option if you know what you are doing and want to suppress this warning.\u001b[0m\u001b[33m\n",
      "\u001b[0m"
     ]
    }
   ],
   "source": [
    "! pip install pandas sqlalchemy requests python-dotenv"
   ]
  },
  {
   "cell_type": "code",
   "execution_count": 17,
   "id": "3f8563e1",
   "metadata": {
    "ExecuteTime": {
     "end_time": "2025-05-12T16:53:53.479414Z",
     "start_time": "2025-05-12T16:53:53.462917Z"
    }
   },
   "outputs": [],
   "source": [
    "import os\n",
    "from datetime import datetime\n",
    "\n",
    "import pandas as pd\n",
    "from sqlalchemy import inspect\n",
    "\n",
    "# import everything from your utils module:\n",
    "from bitcoin_analytics_utils import (\n",
    "    fetch_full_historical,\n",
    "    fetch_realtime_df,\n",
    "    ensure_table_exists,\n",
    "    prune_old_rows,\n",
    "    engine,\n",
    "    TABLE_NAME,\n",
    ")\n"
   ]
  },
  {
   "cell_type": "markdown",
   "id": "cff30b56",
   "metadata": {},
   "source": [
    "## 2. Fetch Full Historical Data (Last 7 Days)"
   ]
  },
  {
   "cell_type": "code",
   "execution_count": 18,
   "id": "ffb8b363",
   "metadata": {
    "ExecuteTime": {
     "end_time": "2025-05-12T16:54:06.893275Z",
     "start_time": "2025-05-12T16:53:53.483313Z"
    }
   },
   "outputs": [
    {
     "name": "stdout",
     "output_type": "stream",
     "text": [
      "Rows fetched: 10080\n"
     ]
    },
    {
     "data": {
      "text/html": [
       "<div>\n",
       "<style scoped>\n",
       "    .dataframe tbody tr th:only-of-type {\n",
       "        vertical-align: middle;\n",
       "    }\n",
       "\n",
       "    .dataframe tbody tr th {\n",
       "        vertical-align: top;\n",
       "    }\n",
       "\n",
       "    .dataframe thead th {\n",
       "        text-align: right;\n",
       "    }\n",
       "</style>\n",
       "<table border=\"1\" class=\"dataframe\">\n",
       "  <thead>\n",
       "    <tr style=\"text-align: right;\">\n",
       "      <th></th>\n",
       "      <th>timestamp</th>\n",
       "      <th>price_usd</th>\n",
       "      <th>volume_usd</th>\n",
       "      <th>volume_btc</th>\n",
       "    </tr>\n",
       "  </thead>\n",
       "  <tbody>\n",
       "    <tr>\n",
       "      <th>0</th>\n",
       "      <td>2025-05-05 16:54:00</td>\n",
       "      <td>94268.55</td>\n",
       "      <td>813112.79</td>\n",
       "      <td>8.632</td>\n",
       "    </tr>\n",
       "    <tr>\n",
       "      <th>1</th>\n",
       "      <td>2025-05-05 16:55:00</td>\n",
       "      <td>94295.36</td>\n",
       "      <td>513676.01</td>\n",
       "      <td>5.450</td>\n",
       "    </tr>\n",
       "    <tr>\n",
       "      <th>2</th>\n",
       "      <td>2025-05-05 16:56:00</td>\n",
       "      <td>94261.91</td>\n",
       "      <td>1204569.26</td>\n",
       "      <td>12.790</td>\n",
       "    </tr>\n",
       "    <tr>\n",
       "      <th>3</th>\n",
       "      <td>2025-05-05 16:57:00</td>\n",
       "      <td>94254.45</td>\n",
       "      <td>597140.43</td>\n",
       "      <td>6.339</td>\n",
       "    </tr>\n",
       "    <tr>\n",
       "      <th>4</th>\n",
       "      <td>2025-05-05 16:58:00</td>\n",
       "      <td>94258.50</td>\n",
       "      <td>310937.76</td>\n",
       "      <td>3.300</td>\n",
       "    </tr>\n",
       "  </tbody>\n",
       "</table>\n",
       "</div>"
      ],
      "text/plain": [
       "            timestamp  price_usd  volume_usd  volume_btc\n",
       "0 2025-05-05 16:54:00   94268.55   813112.79       8.632\n",
       "1 2025-05-05 16:55:00   94295.36   513676.01       5.450\n",
       "2 2025-05-05 16:56:00   94261.91  1204569.26      12.790\n",
       "3 2025-05-05 16:57:00   94254.45   597140.43       6.339\n",
       "4 2025-05-05 16:58:00   94258.50   310937.76       3.300"
      ]
     },
     "metadata": {},
     "output_type": "display_data"
    },
    {
     "data": {
      "text/html": [
       "<div>\n",
       "<style scoped>\n",
       "    .dataframe tbody tr th:only-of-type {\n",
       "        vertical-align: middle;\n",
       "    }\n",
       "\n",
       "    .dataframe tbody tr th {\n",
       "        vertical-align: top;\n",
       "    }\n",
       "\n",
       "    .dataframe thead th {\n",
       "        text-align: right;\n",
       "    }\n",
       "</style>\n",
       "<table border=\"1\" class=\"dataframe\">\n",
       "  <thead>\n",
       "    <tr style=\"text-align: right;\">\n",
       "      <th></th>\n",
       "      <th>timestamp</th>\n",
       "      <th>price_usd</th>\n",
       "      <th>volume_usd</th>\n",
       "      <th>volume_btc</th>\n",
       "    </tr>\n",
       "  </thead>\n",
       "  <tbody>\n",
       "    <tr>\n",
       "      <th>10075</th>\n",
       "      <td>2025-05-12 16:49:00</td>\n",
       "      <td>103044.74</td>\n",
       "      <td>1606969.08</td>\n",
       "      <td>15.60</td>\n",
       "    </tr>\n",
       "    <tr>\n",
       "      <th>10076</th>\n",
       "      <td>2025-05-12 16:50:00</td>\n",
       "      <td>103028.63</td>\n",
       "      <td>1276777.27</td>\n",
       "      <td>12.39</td>\n",
       "    </tr>\n",
       "    <tr>\n",
       "      <th>10077</th>\n",
       "      <td>2025-05-12 16:51:00</td>\n",
       "      <td>103013.95</td>\n",
       "      <td>1330898.41</td>\n",
       "      <td>12.92</td>\n",
       "    </tr>\n",
       "    <tr>\n",
       "      <th>10078</th>\n",
       "      <td>2025-05-12 16:52:00</td>\n",
       "      <td>102989.71</td>\n",
       "      <td>1648186.57</td>\n",
       "      <td>16.00</td>\n",
       "    </tr>\n",
       "    <tr>\n",
       "      <th>10079</th>\n",
       "      <td>2025-05-12 16:53:00</td>\n",
       "      <td>102967.90</td>\n",
       "      <td>0.00</td>\n",
       "      <td>0.00</td>\n",
       "    </tr>\n",
       "  </tbody>\n",
       "</table>\n",
       "</div>"
      ],
      "text/plain": [
       "                timestamp  price_usd  volume_usd  volume_btc\n",
       "10075 2025-05-12 16:49:00  103044.74  1606969.08       15.60\n",
       "10076 2025-05-12 16:50:00  103028.63  1276777.27       12.39\n",
       "10077 2025-05-12 16:51:00  103013.95  1330898.41       12.92\n",
       "10078 2025-05-12 16:52:00  102989.71  1648186.57       16.00\n",
       "10079 2025-05-12 16:53:00  102967.90        0.00        0.00"
      ]
     },
     "metadata": {},
     "output_type": "display_data"
    },
    {
     "data": {
      "text/html": [
       "<div>\n",
       "<style scoped>\n",
       "    .dataframe tbody tr th:only-of-type {\n",
       "        vertical-align: middle;\n",
       "    }\n",
       "\n",
       "    .dataframe tbody tr th {\n",
       "        vertical-align: top;\n",
       "    }\n",
       "\n",
       "    .dataframe thead th {\n",
       "        text-align: right;\n",
       "    }\n",
       "</style>\n",
       "<table border=\"1\" class=\"dataframe\">\n",
       "  <thead>\n",
       "    <tr style=\"text-align: right;\">\n",
       "      <th></th>\n",
       "      <th>price_usd</th>\n",
       "      <th>volume_usd</th>\n",
       "      <th>volume_btc</th>\n",
       "    </tr>\n",
       "  </thead>\n",
       "  <tbody>\n",
       "    <tr>\n",
       "      <th>count</th>\n",
       "      <td>10080.000000</td>\n",
       "      <td>1.008000e+04</td>\n",
       "      <td>10080.000000</td>\n",
       "    </tr>\n",
       "    <tr>\n",
       "      <th>mean</th>\n",
       "      <td>100477.564617</td>\n",
       "      <td>2.750719e+06</td>\n",
       "      <td>27.019899</td>\n",
       "    </tr>\n",
       "    <tr>\n",
       "      <th>std</th>\n",
       "      <td>3776.265293</td>\n",
       "      <td>2.891908e+07</td>\n",
       "      <td>279.425372</td>\n",
       "    </tr>\n",
       "    <tr>\n",
       "      <th>min</th>\n",
       "      <td>93411.390000</td>\n",
       "      <td>0.000000e+00</td>\n",
       "      <td>0.000000</td>\n",
       "    </tr>\n",
       "    <tr>\n",
       "      <th>25%</th>\n",
       "      <td>96871.767500</td>\n",
       "      <td>3.892748e+05</td>\n",
       "      <td>3.871000</td>\n",
       "    </tr>\n",
       "    <tr>\n",
       "      <th>50%</th>\n",
       "      <td>102812.075000</td>\n",
       "      <td>8.215775e+05</td>\n",
       "      <td>8.172000</td>\n",
       "    </tr>\n",
       "    <tr>\n",
       "      <th>75%</th>\n",
       "      <td>103725.797500</td>\n",
       "      <td>1.725621e+06</td>\n",
       "      <td>17.252500</td>\n",
       "    </tr>\n",
       "    <tr>\n",
       "      <th>max</th>\n",
       "      <td>105671.920000</td>\n",
       "      <td>1.555539e+09</td>\n",
       "      <td>15051.190000</td>\n",
       "    </tr>\n",
       "  </tbody>\n",
       "</table>\n",
       "</div>"
      ],
      "text/plain": [
       "           price_usd    volume_usd    volume_btc\n",
       "count   10080.000000  1.008000e+04  10080.000000\n",
       "mean   100477.564617  2.750719e+06     27.019899\n",
       "std      3776.265293  2.891908e+07    279.425372\n",
       "min     93411.390000  0.000000e+00      0.000000\n",
       "25%     96871.767500  3.892748e+05      3.871000\n",
       "50%    102812.075000  8.215775e+05      8.172000\n",
       "75%    103725.797500  1.725621e+06     17.252500\n",
       "max    105671.920000  1.555539e+09  15051.190000"
      ]
     },
     "metadata": {},
     "output_type": "display_data"
    }
   ],
   "source": [
    "#  Fetch the last 7 days (7×24×60 minutes) of BTC/USD minute bars:\n",
    "HISTORICAL_MINUTES = 7 * 24 * 60\n",
    "df_hist = fetch_full_historical(HISTORICAL_MINUTES)\n",
    "\n",
    "# Show first & last rows\n",
    "print(\"Rows fetched:\", len(df_hist))\n",
    "display(df_hist.head())\n",
    "display(df_hist.tail())\n",
    "display(df_hist[[\"price_usd\", \"volume_usd\", \"volume_btc\"]].describe())"
   ]
  },
  {
   "cell_type": "markdown",
   "id": "81ca0311",
   "metadata": {},
   "source": [
    "## 3. Fetch Real‐Time Data (Last 24 Hours)"
   ]
  },
  {
   "cell_type": "code",
   "execution_count": 19,
   "id": "307b04f1",
   "metadata": {
    "ExecuteTime": {
     "end_time": "2025-05-12T16:54:09.808374Z",
     "start_time": "2025-05-12T16:54:06.896262Z"
    }
   },
   "outputs": [
    {
     "name": "stdout",
     "output_type": "stream",
     "text": [
      "Realtime bars fetched: 1441\n"
     ]
    },
    {
     "data": {
      "text/html": [
       "<div>\n",
       "<style scoped>\n",
       "    .dataframe tbody tr th:only-of-type {\n",
       "        vertical-align: middle;\n",
       "    }\n",
       "\n",
       "    .dataframe tbody tr th {\n",
       "        vertical-align: top;\n",
       "    }\n",
       "\n",
       "    .dataframe thead th {\n",
       "        text-align: right;\n",
       "    }\n",
       "</style>\n",
       "<table border=\"1\" class=\"dataframe\">\n",
       "  <thead>\n",
       "    <tr style=\"text-align: right;\">\n",
       "      <th></th>\n",
       "      <th>timestamp</th>\n",
       "      <th>price_usd</th>\n",
       "      <th>volume_usd</th>\n",
       "      <th>volume_btc</th>\n",
       "    </tr>\n",
       "  </thead>\n",
       "  <tbody>\n",
       "    <tr>\n",
       "      <th>0</th>\n",
       "      <td>2025-05-11 16:54:00</td>\n",
       "      <td>103935.84</td>\n",
       "      <td>357259.92</td>\n",
       "      <td>3.437</td>\n",
       "    </tr>\n",
       "    <tr>\n",
       "      <th>1</th>\n",
       "      <td>2025-05-11 16:55:00</td>\n",
       "      <td>103950.20</td>\n",
       "      <td>216139.77</td>\n",
       "      <td>2.080</td>\n",
       "    </tr>\n",
       "    <tr>\n",
       "      <th>2</th>\n",
       "      <td>2025-05-11 16:56:00</td>\n",
       "      <td>103957.60</td>\n",
       "      <td>440408.61</td>\n",
       "      <td>4.236</td>\n",
       "    </tr>\n",
       "    <tr>\n",
       "      <th>3</th>\n",
       "      <td>2025-05-11 16:57:00</td>\n",
       "      <td>103988.83</td>\n",
       "      <td>381769.98</td>\n",
       "      <td>3.672</td>\n",
       "    </tr>\n",
       "    <tr>\n",
       "      <th>4</th>\n",
       "      <td>2025-05-11 16:58:00</td>\n",
       "      <td>103989.51</td>\n",
       "      <td>321841.99</td>\n",
       "      <td>3.095</td>\n",
       "    </tr>\n",
       "  </tbody>\n",
       "</table>\n",
       "</div>"
      ],
      "text/plain": [
       "            timestamp  price_usd  volume_usd  volume_btc\n",
       "0 2025-05-11 16:54:00  103935.84   357259.92       3.437\n",
       "1 2025-05-11 16:55:00  103950.20   216139.77       2.080\n",
       "2 2025-05-11 16:56:00  103957.60   440408.61       4.236\n",
       "3 2025-05-11 16:57:00  103988.83   381769.98       3.672\n",
       "4 2025-05-11 16:58:00  103989.51   321841.99       3.095"
      ]
     },
     "metadata": {},
     "output_type": "display_data"
    }
   ],
   "source": [
    "df_rt = fetch_realtime_df()\n",
    "print(\"Realtime bars fetched:\", len(df_rt))\n",
    "display(df_rt.head())"
   ]
  },
  {
   "cell_type": "markdown",
   "id": "401493d6",
   "metadata": {},
   "source": [
    "## 4. Initialize / Ensure Database Table Exists"
   ]
  },
  {
   "cell_type": "code",
   "execution_count": 20,
   "id": "090ecdf8",
   "metadata": {
    "ExecuteTime": {
     "end_time": "2025-05-12T16:54:11.122858Z",
     "start_time": "2025-05-12T16:54:09.810143Z"
    }
   },
   "outputs": [
    {
     "name": "stdout",
     "output_type": "stream",
     "text": [
      "→ Table `btc_minute_data123` already exists; skipping initial load.\n"
     ]
    }
   ],
   "source": [
    "insp = inspect(engine)\n",
    "if not insp.has_table(TABLE_NAME):\n",
    "    print(f\"→ Table `{TABLE_NAME}` missing; inserting historical data…\")\n",
    "    # This calls fetch_full_historical again under the hood, or reuse df_hist:\n",
    "    df_hist.to_sql(TABLE_NAME, engine, if_exists=\"replace\", index=False)\n",
    "    print(f\"  Inserted {len(df_hist)} rows.\")\n",
    "else:\n",
    "    print(f\"→ Table `{TABLE_NAME}` already exists; skipping initial load.\")"
   ]
  },
  {
   "cell_type": "markdown",
   "id": "91a4186c",
   "metadata": {},
   "source": [
    "## 5. Append New Real-Time Bars to DB\n"
   ]
  },
  {
   "cell_type": "code",
   "execution_count": 21,
   "id": "0fb9d92d",
   "metadata": {
    "ExecuteTime": {
     "end_time": "2025-05-12T16:54:11.930487Z",
     "start_time": "2025-05-12T16:54:11.127153Z"
    }
   },
   "outputs": [
    {
     "name": "stdout",
     "output_type": "stream",
     "text": [
      "Latest timestamp in DB: 2025-05-12 06:13:00\n",
      "New bars to append: 641\n",
      "  🔪 Pruned 641 old rows; now 2000 rows remain.\n"
     ]
    }
   ],
   "source": [
    "# 1. Get the max timestamp currently in the table\n",
    "query = f\"SELECT MAX(timestamp) AS max_ts FROM {TABLE_NAME}\"\n",
    "max_ts = pd.read_sql(query, engine)[\"max_ts\"].iloc[0]\n",
    "print(\"Latest timestamp in DB:\", max_ts)\n",
    "\n",
    "# 2. Filter `df_rt` for only truly new bars\n",
    "new_bars = df_rt[df_rt[\"timestamp\"] > max_ts]\n",
    "print(\"New bars to append:\", len(new_bars))\n",
    "\n",
    "# 3. Append & prune if needed\n",
    "if not new_bars.empty:\n",
    "    with engine.begin() as conn:\n",
    "        new_bars.to_sql(TABLE_NAME, conn, if_exists=\"append\", index=False)\n",
    "        prune_old_rows(conn)"
   ]
  },
  {
   "cell_type": "markdown",
   "id": "6dc3e848",
   "metadata": {},
   "source": [
    "## 6. Verify Database Contents\n"
   ]
  },
  {
   "cell_type": "code",
   "execution_count": 22,
   "id": "e7855aa9",
   "metadata": {
    "ExecuteTime": {
     "end_time": "2025-05-12T16:54:12.207363Z",
     "start_time": "2025-05-12T16:54:11.932544Z"
    }
   },
   "outputs": [
    {
     "data": {
      "text/html": [
       "<div>\n",
       "<style scoped>\n",
       "    .dataframe tbody tr th:only-of-type {\n",
       "        vertical-align: middle;\n",
       "    }\n",
       "\n",
       "    .dataframe tbody tr th {\n",
       "        vertical-align: top;\n",
       "    }\n",
       "\n",
       "    .dataframe thead th {\n",
       "        text-align: right;\n",
       "    }\n",
       "</style>\n",
       "<table border=\"1\" class=\"dataframe\">\n",
       "  <thead>\n",
       "    <tr style=\"text-align: right;\">\n",
       "      <th></th>\n",
       "      <th>timestamp</th>\n",
       "      <th>price_usd</th>\n",
       "      <th>volume_usd</th>\n",
       "      <th>volume_btc</th>\n",
       "    </tr>\n",
       "  </thead>\n",
       "  <tbody>\n",
       "    <tr>\n",
       "      <th>0</th>\n",
       "      <td>2025-05-12 16:54:00</td>\n",
       "      <td>102968.68</td>\n",
       "      <td>0.00</td>\n",
       "      <td>0.00</td>\n",
       "    </tr>\n",
       "    <tr>\n",
       "      <th>1</th>\n",
       "      <td>2025-05-12 16:53:00</td>\n",
       "      <td>102969.25</td>\n",
       "      <td>1818349.06</td>\n",
       "      <td>17.66</td>\n",
       "    </tr>\n",
       "    <tr>\n",
       "      <th>2</th>\n",
       "      <td>2025-05-12 16:52:00</td>\n",
       "      <td>102989.71</td>\n",
       "      <td>1648186.57</td>\n",
       "      <td>16.00</td>\n",
       "    </tr>\n",
       "    <tr>\n",
       "      <th>3</th>\n",
       "      <td>2025-05-12 16:51:00</td>\n",
       "      <td>103013.95</td>\n",
       "      <td>1330898.41</td>\n",
       "      <td>12.92</td>\n",
       "    </tr>\n",
       "    <tr>\n",
       "      <th>4</th>\n",
       "      <td>2025-05-12 16:50:00</td>\n",
       "      <td>103028.63</td>\n",
       "      <td>1276777.27</td>\n",
       "      <td>12.39</td>\n",
       "    </tr>\n",
       "  </tbody>\n",
       "</table>\n",
       "</div>"
      ],
      "text/plain": [
       "            timestamp  price_usd  volume_usd  volume_btc\n",
       "0 2025-05-12 16:54:00  102968.68        0.00        0.00\n",
       "1 2025-05-12 16:53:00  102969.25  1818349.06       17.66\n",
       "2 2025-05-12 16:52:00  102989.71  1648186.57       16.00\n",
       "3 2025-05-12 16:51:00  103013.95  1330898.41       12.92\n",
       "4 2025-05-12 16:50:00  103028.63  1276777.27       12.39"
      ]
     },
     "metadata": {},
     "output_type": "display_data"
    }
   ],
   "source": [
    "# Show the 5 most recent records from the DB\n",
    "df_db = pd.read_sql(\n",
    "    f\"SELECT timestamp, price_usd, volume_usd, volume_btc \"\n",
    "    f\"FROM {TABLE_NAME} \"\n",
    "    f\"ORDER BY timestamp DESC \"\n",
    "    f\"LIMIT 5\",\n",
    "    engine,\n",
    ")\n",
    "display(df_db)"
   ]
  },
  {
   "cell_type": "code",
   "execution_count": 23,
   "id": "7ae2b826",
   "metadata": {
    "ExecuteTime": {
     "end_time": "2025-05-12T16:54:12.232843Z",
     "start_time": "2025-05-12T16:54:12.209196Z"
    }
   },
   "outputs": [
    {
     "name": "stdout",
     "output_type": "stream",
     "text": [
      "Fetching real-time minute bars via wrapper...\n"
     ]
    },
    {
     "ename": "NameError",
     "evalue": "name 'fetch_realtime_minute' is not defined",
     "output_type": "error",
     "traceback": [
      "\u001b[0;31m---------------------------------------------------------------------------\u001b[0m",
      "\u001b[0;31mNameError\u001b[0m                                 Traceback (most recent call last)",
      "Cell \u001b[0;32mIn[23], line 2\u001b[0m\n\u001b[1;32m      1\u001b[0m \u001b[38;5;28mprint\u001b[39m(\u001b[38;5;124m\"\u001b[39m\u001b[38;5;124mFetching real-time minute bars via wrapper...\u001b[39m\u001b[38;5;124m\"\u001b[39m)\n\u001b[0;32m----> 2\u001b[0m df_realtime \u001b[38;5;241m=\u001b[39m \u001b[43mfetch_realtime_minute\u001b[49m(API_KEY, period_minutes\u001b[38;5;241m=\u001b[39m\u001b[38;5;241m10\u001b[39m)\n\u001b[1;32m      3\u001b[0m \u001b[38;5;28mprint\u001b[39m(df_realtime\u001b[38;5;241m.\u001b[39mtail())\n",
      "\u001b[0;31mNameError\u001b[0m: name 'fetch_realtime_minute' is not defined"
     ]
    }
   ],
   "source": [
    "print(\"Fetching real-time minute bars via wrapper...\")\n",
    "df_realtime = fetch_realtime_minute(API_KEY, period_minutes=10)\n",
    "print(df_realtime.tail())D"
   ]
  }
 ],
 "metadata": {
  "kernelspec": {
   "display_name": "Python 3 (ipykernel)",
   "language": "python",
   "name": "python3"
  },
  "language_info": {
   "codemirror_mode": {
    "name": "ipython",
    "version": 3
   },
   "file_extension": ".py",
   "mimetype": "text/x-python",
   "name": "python",
   "nbconvert_exporter": "python",
   "pygments_lexer": "ipython3",
   "version": "3.8.10"
  },
  "toc": {
   "base_numbering": 1,
   "nav_menu": {},
   "number_sections": true,
   "sideBar": true,
   "skip_h1_title": false,
   "title_cell": "Table of Contents",
   "title_sidebar": "Contents",
   "toc_cell": false,
   "toc_position": {},
   "toc_section_display": true,
   "toc_window_display": false
  }
 },
 "nbformat": 4,
 "nbformat_minor": 5
}
