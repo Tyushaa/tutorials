{
 "cells": [
  {
   "cell_type": "code",
   "execution_count": null,
   "id": "f4286b9b",
   "metadata": {},
   "outputs": [],
   "source": []
  },
  {
   "cell_type": "markdown",
   "id": "d87e711c",
   "metadata": {},
   "source": [
    "# Fetch and Store Historical Bitcoin Data in PostgreSQL\n",
    "\n",
    "This notebook demonstrates how to fetch historical Bitcoin (BTC) data from the CryptoCompare API, process the data, and store it in a PostgreSQL database. The process is broken down into the following steps:\n",
    "\n",
    "## Steps:\n",
    "1. **Load Environment Variables**: We load API keys and database URL from an `.env` file.\n",
    "2. **Configure Database Connection**: We set up a connection to the PostgreSQL database using SQLAlchemy.\n",
    "3. **API Interaction**: We fetch historical data for Bitcoin in chunks, using the CryptoCompare API.\n",
    "4. **Data Processing**: The data is processed, including renaming columns, converting timestamps, and handling duplicates.\n",
    "5. **Store in Database**: The processed data is stored in a PostgreSQL database table.\n",
    "\n",
    "### Required Libraries:\n",
    "- `os`: For handling environment variables.\n",
    "- `time`: For managing time intervals.\n",
    "- `pandas`: For data manipulation and storage.\n",
    "- `requests`: For making HTTP requests to the CryptoCompare API.\n",
    "- `dotenv`: For loading environment variables from the `.env` file.\n",
    "- `sqlalchemy`: For connecting to the PostgreSQL database.\n"
   ]
  },
  {
   "cell_type": "code",
   "execution_count": 8,
   "id": "0f48bdf0",
   "metadata": {
    "ExecuteTime": {
     "end_time": "2025-05-11T10:08:33.146560Z",
     "start_time": "2025-05-11T10:08:31.295112Z"
    }
   },
   "outputs": [
    {
     "name": "stdout",
     "output_type": "stream",
     "text": [
      "Requirement already satisfied: python-dotenv in /usr/local/lib/python3.8/dist-packages (1.0.1)\n",
      "Requirement already satisfied: requests in /usr/local/lib/python3.8/dist-packages (2.32.3)\n",
      "Requirement already satisfied: pandas in /usr/local/lib/python3.8/dist-packages (2.0.3)\n",
      "Requirement already satisfied: sqlalchemy in /usr/local/lib/python3.8/dist-packages (2.0.40)\n",
      "Requirement already satisfied: psycopg2-binary in /usr/local/lib/python3.8/dist-packages (2.9.10)\n",
      "Requirement already satisfied: charset-normalizer<4,>=2 in /usr/local/lib/python3.8/dist-packages (from requests) (3.4.2)\n",
      "Requirement already satisfied: idna<4,>=2.5 in /usr/local/lib/python3.8/dist-packages (from requests) (3.10)\n",
      "Requirement already satisfied: urllib3<3,>=1.21.1 in /usr/local/lib/python3.8/dist-packages (from requests) (2.2.3)\n",
      "Requirement already satisfied: certifi>=2017.4.17 in /usr/local/lib/python3.8/dist-packages (from requests) (2025.4.26)\n",
      "Requirement already satisfied: python-dateutil>=2.8.2 in /usr/local/lib/python3.8/dist-packages (from pandas) (2.9.0.post0)\n",
      "Requirement already satisfied: pytz>=2020.1 in /usr/local/lib/python3.8/dist-packages (from pandas) (2025.2)\n",
      "Requirement already satisfied: tzdata>=2022.1 in /usr/local/lib/python3.8/dist-packages (from pandas) (2025.2)\n",
      "Requirement already satisfied: numpy>=1.20.3 in /usr/local/lib/python3.8/dist-packages (from pandas) (1.24.4)\n",
      "Requirement already satisfied: typing-extensions>=4.6.0 in /usr/local/lib/python3.8/dist-packages (from sqlalchemy) (4.13.2)\n",
      "Requirement already satisfied: greenlet>=1 in /usr/local/lib/python3.8/dist-packages (from sqlalchemy) (3.1.1)\n",
      "Requirement already satisfied: six>=1.5 in /usr/local/lib/python3.8/dist-packages (from python-dateutil>=2.8.2->pandas) (1.17.0)\n",
      "\u001b[33mWARNING: Running pip as the 'root' user can result in broken permissions and conflicting behaviour with the system package manager, possibly rendering your system unusable. It is recommended to use a virtual environment instead: https://pip.pypa.io/warnings/venv. Use the --root-user-action option if you know what you are doing and want to suppress this warning.\u001b[0m\u001b[33m\n",
      "\u001b[0m"
     ]
    }
   ],
   "source": [
    "! pip install python-dotenv requests pandas sqlalchemy psycopg2-binary\n"
   ]
  },
  {
   "cell_type": "code",
   "execution_count": 2,
   "id": "b1df88de",
   "metadata": {
    "ExecuteTime": {
     "end_time": "2025-05-11T10:08:17.087996Z",
     "start_time": "2025-05-11T10:08:16.148957Z"
    }
   },
   "outputs": [],
   "source": [
    "import os\n",
    "import time\n",
    "\n",
    "import pandas as pd\n",
    "import requests\n",
    "from dotenv import load_dotenv\n",
    "from sqlalchemy import create_engine"
   ]
  },
  {
   "cell_type": "code",
   "execution_count": 3,
   "id": "c462a437",
   "metadata": {
    "ExecuteTime": {
     "end_time": "2025-05-11T10:08:17.099403Z",
     "start_time": "2025-05-11T10:08:17.091078Z"
    }
   },
   "outputs": [],
   "source": [
    "# Load Env variables\n",
    "load_dotenv(dotenv_path=\"env\")  \n",
    "API_KEY      = os.getenv(\"API_KEY\")\n",
    "DATABASE_URL = os.getenv(\"DATABASE_URL\")\n",
    "\n",
    "\n",
    "if not API_KEY:\n",
    "    raise EnvironmentError(\"API_KEY missing.\")\n",
    "if not DATABASE_URL:\n",
    "    raise EnvironmentError(\"DATABASE_URL missing.\")\n"
   ]
  },
  {
   "cell_type": "markdown",
   "id": "ef568c9a",
   "metadata": {},
   "source": [
    "### PATCH DATABASE URL FOR SQLALCHEMY ≥1.4"
   ]
  },
  {
   "cell_type": "code",
   "execution_count": 4,
   "id": "2f6f9a54",
   "metadata": {
    "ExecuteTime": {
     "end_time": "2025-05-11T10:08:17.346128Z",
     "start_time": "2025-05-11T10:08:17.105350Z"
    }
   },
   "outputs": [],
   "source": [
    "# SQLAlchemy 1.4+ rejects \"postgres://\"; it needs \"postgresql://\"\n",
    "if DATABASE_URL.startswith(\"postgres://\"):\n",
    "    DATABASE_URL = DATABASE_URL.replace(\"postgres://\", \"postgresql://\", 1)\n",
    "\n",
    "# Ensure psycopg2 is installed: pip install psycopg2-binary\n",
    "engine = create_engine(DATABASE_URL, echo=False, future=True)\n",
    "\n",
    "# CONFIG\n",
    "TABLE_NAME   = \"bitcion_daily_data\"\n",
    "HISTORICAL_CHUNK = 2000  # max per-request limit\n",
    "BASE_URL         = \"https://min-api.cryptocompare.com/data/v2/histoday\"\n",
    "HEADERS          = {\"authorization\": f\"Apikey {API_KEY}\"}\n",
    "\n"
   ]
  },
  {
   "cell_type": "markdown",
   "id": "7b033fdd",
   "metadata": {
    "ExecuteTime": {
     "end_time": "2025-05-11T09:38:01.326205Z",
     "start_time": "2025-05-11T09:38:01.320313Z"
    }
   },
   "source": [
    "## Fetching Data"
   ]
  },
  {
   "cell_type": "code",
   "execution_count": 5,
   "id": "cad6cd65",
   "metadata": {
    "ExecuteTime": {
     "end_time": "2025-05-11T10:08:17.366734Z",
     "start_time": "2025-05-11T10:08:17.350352Z"
    }
   },
   "outputs": [],
   "source": [
    "# FETCH A CHUNK\n",
    "def fetch_chunk(days: int, to_ts: int = None) -> list:\n",
    "    limit_param = max(days - 1, 1)\n",
    "    params = {\"fsym\": \"BTC\", \"tsym\": \"USD\", \"limit\": limit_param}\n",
    "    if to_ts:\n",
    "        params[\"toTs\"] = to_ts\n",
    "\n",
    "    resp = requests.get(BASE_URL, params=params, headers=HEADERS)\n",
    "    resp.raise_for_status()\n",
    "    data = resp.json()\n",
    "    if data.get(\"Response\") != \"Success\":\n",
    "        raise RuntimeError(f\"API Error: {data.get('Message', 'Unknown')}\")\n",
    "    return data[\"Data\"][\"Data\"]\n",
    "\n"
   ]
  },
  {
   "cell_type": "markdown",
   "id": "a81d3924",
   "metadata": {
    "ExecuteTime": {
     "end_time": "2025-05-11T09:39:15.127230Z",
     "start_time": "2025-05-11T09:39:15.122848Z"
    }
   },
   "source": [
    "## Fetch Full Historical Data"
   ]
  },
  {
   "cell_type": "code",
   "execution_count": 6,
   "id": "6ac30de3",
   "metadata": {
    "ExecuteTime": {
     "end_time": "2025-05-11T10:08:17.389330Z",
     "start_time": "2025-05-11T10:08:17.372900Z"
    }
   },
   "outputs": [],
   "source": [
    "# Fetch Full HISTORY\n",
    "def fetch_full_historical(total_days: int) -> pd.DataFrame:\n",
    "    to_ts = int(time.time())\n",
    "    days_left = total_days\n",
    "    all_days = []\n",
    "\n",
    "    while days_left > 0:\n",
    "        batch = min(HISTORICAL_CHUNK, days_left)\n",
    "        chunk = fetch_chunk(batch, to_ts)\n",
    "        if not chunk:\n",
    "            break\n",
    "\n",
    "        all_days.extend(chunk)\n",
    "        to_ts = chunk[0][\"time\"] - 1\n",
    "        days_left -= batch\n",
    "        time.sleep(0.2)  # be kind to the API\n",
    "\n",
    "    df = pd.DataFrame(all_days)\n",
    "    df[\"date\"] = pd.to_datetime(df[\"time\"], unit=\"s\").dt.date\n",
    "    df = df.rename(columns={\n",
    "        \"open\": \"open_usd\",\n",
    "        \"high\": \"high_usd\",\n",
    "        \"low\": \"low_usd\",\n",
    "        \"close\": \"close_usd\",\n",
    "        \"volumeto\": \"volume_usd\"\n",
    "    })\n",
    "    return (\n",
    "        df[[\"date\", \"open_usd\", \"high_usd\", \"low_usd\", \"close_usd\", \"volume_usd\"]]\n",
    "        .drop_duplicates(\"date\")\n",
    "        .sort_values(\"date\")\n",
    "        .reset_index(drop=True)\n",
    "    )\n",
    "\n"
   ]
  },
  {
   "cell_type": "markdown",
   "id": "fd3cc5e3",
   "metadata": {},
   "source": [
    "## Storing Data in PostgreSQL"
   ]
  },
  {
   "cell_type": "code",
   "execution_count": 9,
   "id": "02be0854",
   "metadata": {
    "ExecuteTime": {
     "end_time": "2025-05-11T10:09:08.049727Z",
     "start_time": "2025-05-11T10:08:53.980541Z"
    }
   },
   "outputs": [
    {
     "name": "stdout",
     "output_type": "stream",
     "text": [
      "\n",
      "Fetching ~4383 days of BTC/USD data (~12.00 years)...\n",
      "Fetched 4383 records. Writing to database…\n",
      "✅ Data saved to table 'bitcion_daily_data' in your database.\n",
      "         date  open_usd  high_usd  low_usd  close_usd   volume_usd\n",
      "0  2013-05-12    115.64    117.47   112.40     114.82   2357929.41\n",
      "1  2013-05-13    114.82    118.88   114.50     117.98   3058207.49\n",
      "2  2013-05-14    117.98    119.80   109.42     111.40  10075279.73\n",
      "3  2013-05-15    111.40    116.44   103.02     114.22  12997994.80\n",
      "4  2013-05-16    114.22    118.97   112.10     118.21   5202992.37\n"
     ]
    }
   ],
   "source": [
    "# MAIN\n",
    "def main():\n",
    "    try:\n",
    "        # Number of year of data you want to fetch\n",
    "        num_years = 12\n",
    "        total_days = int(num_years * 365.25)\n",
    "    except ValueError:\n",
    "        print(\"Invalid input. Please enter a numeric value.\")\n",
    "        return\n",
    "\n",
    "    print(f\"\\nFetching ~{total_days} days of BTC/USD data (~{num_years:.2f} years)...\")\n",
    "    df = fetch_full_historical(total_days)\n",
    "    print(f\"Fetched {len(df)} records. Writing to database…\")\n",
    "\n",
    "    # write to Postgres (will replace any existing table with the same name)\n",
    "    df.to_sql(TABLE_NAME, engine, if_exists=\"replace\", index=False)\n",
    "    print(f\"✅ Data saved to table '{TABLE_NAME}' in your database.\")\n",
    "\n",
    "    # Optional: preview first few rows\n",
    "    print(df.head())\n",
    "\n",
    "\n",
    "if __name__ == \"__main__\":\n",
    "    main()"
   ]
  },
  {
   "cell_type": "code",
   "execution_count": null,
   "id": "a52739e1",
   "metadata": {},
   "outputs": [],
   "source": []
  }
 ],
 "metadata": {
  "kernelspec": {
   "display_name": "Python 3 (ipykernel)",
   "language": "python",
   "name": "python3"
  },
  "language_info": {
   "codemirror_mode": {
    "name": "ipython",
    "version": 3
   },
   "file_extension": ".py",
   "mimetype": "text/x-python",
   "name": "python",
   "nbconvert_exporter": "python",
   "pygments_lexer": "ipython3",
   "version": "3.8.10"
  },
  "toc": {
   "base_numbering": 1,
   "nav_menu": {},
   "number_sections": true,
   "sideBar": true,
   "skip_h1_title": false,
   "title_cell": "Table of Contents",
   "title_sidebar": "Contents",
   "toc_cell": false,
   "toc_position": {},
   "toc_section_display": true,
   "toc_window_display": false
  }
 },
 "nbformat": 4,
 "nbformat_minor": 5
}
