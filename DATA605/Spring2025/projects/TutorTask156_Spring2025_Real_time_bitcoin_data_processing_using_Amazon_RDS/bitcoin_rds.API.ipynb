{
 "cells": [
  {
   "cell_type": "markdown",
   "id": "183c2248-ea3d-43ba-b87e-d821bba1bbc6",
   "metadata": {},
   "source": [
    "# Amazon RDS Bitcoin API\n",
    "\n",
    "This notebook demonstrates how to interact with Amazon RDS for Bitcoin price data processing. It covers:\n",
    "\n",
    "- Connecting to an Amazon RDS PostgreSQL instance.\n",
    "- Creating database tables for Bitcoin price data.\n",
    "- Fetching real-time Bitcoin data from CoinGecko API.\n",
    "- Storing and retrieving Bitcoin data from the database.\n",
    "- Performing time series analysis on the stored data.\n",
    "\n"
   ]
  },
  {
   "cell_type": "markdown",
   "id": "3a0ccd35",
   "metadata": {},
   "source": [
    "*Utility Functions*  \n",
    "\n",
    "bitcoin_rds_utils.py module connects these services by:\n",
    "- Managing database connections and schema\n",
    "- Fetching data from CoinGecko\n",
    "- Processing and storing data in RDS\n",
    "- Providing analysis functions for the stored data"
   ]
  },
  {
   "cell_type": "code",
   "execution_count": 77,
   "id": "265e0d58-a7cd-4edf-a0b4-96b60220e801",
   "metadata": {},
   "outputs": [
    {
     "name": "stdout",
     "output_type": "stream",
     "text": [
      "The autoreload extension is already loaded. To reload it, use:\n",
      "  %reload_ext autoreload\n"
     ]
    }
   ],
   "source": [
    "%load_ext autoreload\n",
    "%autoreload 2\n",
    "%matplotlib inline"
   ]
  },
  {
   "cell_type": "markdown",
   "id": "d3b2f997-5c9b-4238-b6d5-e5f2cea43809",
   "metadata": {},
   "source": [
    "## Imports"
   ]
  },
  {
   "cell_type": "code",
   "execution_count": 78,
   "id": "d1480ee9-d6a6-437d-b927-da6cbb05bdf5",
   "metadata": {},
   "outputs": [
    {
     "name": "stdout",
     "output_type": "stream",
     "text": [
      "\u001b[0m\u001b[33mWARNING\u001b[0m: Logger already initialized: skipping\n"
     ]
    }
   ],
   "source": [
    "import logging\n",
    "import pandas as pd\n",
    "import matplotlib.pyplot as plt\n",
    "import seaborn as sns\n",
    "from datetime import datetime, timedelta\n",
    "\n",
    "# Import your utility functions\n",
    "import bitcoin_rds_utils as brds\n",
    "\n",
    "# If you're using the helpers for notebook configuration\n",
    "import helpers.hdbg as hdbg\n",
    "import helpers.hprint as hprint\n",
    "\n",
    "# Enable logging\n",
    "hdbg.init_logger(verbosity=logging.INFO)\n",
    "_LOG = logging.getLogger(__name__)\n",
    "hprint.config_notebook()"
   ]
  },
  {
   "cell_type": "markdown",
   "id": "6bda229a",
   "metadata": {},
   "source": [
    "## Database Connection and Setup"
   ]
  },
  {
   "cell_type": "markdown",
   "id": "2f85899a",
   "metadata": {},
   "source": [
    "### Connecting to RDS\n",
    "First, we'll test the connection to our Amazon RDS PostgreSQL instance."
   ]
  },
  {
   "cell_type": "code",
   "execution_count": 79,
   "id": "782b6b2b",
   "metadata": {},
   "outputs": [
    {
     "name": "stderr",
     "output_type": "stream",
     "text": [
      "INFO:bitcoin_rds_utils:Connecting to RDS database\n",
      "INFO:__main__:Successfully connected to the database!\n",
      "INFO:__main__:PostgreSQL database version: PostgreSQL 17.2 on x86_64-pc-linux-gnu, compiled by gcc (GCC) 12.4.0, 64-bit\n"
     ]
    }
   ],
   "source": [
    "# Test database connection\n",
    "try:\n",
    "    conn = brds.get_db_connection()\n",
    "    _LOG.info(\"Successfully connected to the database!\")\n",
    "    \n",
    "    # Get PostgreSQL version\n",
    "    cur = conn.cursor()\n",
    "    cur.execute(\"SELECT version();\")\n",
    "    db_version = cur.fetchone()\n",
    "    _LOG.info(f\"PostgreSQL database version: {db_version[0]}\")\n",
    "    \n",
    "    cur.close()\n",
    "    conn.close()\n",
    "except Exception as e:\n",
    "    _LOG.error(f\"Failed to connect to the database: {e}\")"
   ]
  },
  {
   "cell_type": "markdown",
   "id": "19af5df1",
   "metadata": {},
   "source": [
    "## Create Database Tables"
   ]
  },
  {
   "cell_type": "markdown",
   "id": "5ef8da11",
   "metadata": {},
   "source": [
    "### Database Schema\n",
    "Now we'll create the necessary tables for storing Bitcoin price data if they don't already exist."
   ]
  },
  {
   "cell_type": "markdown",
   "id": "fe1125ca",
   "metadata": {},
   "source": [
    "The database uses two main tables:\n",
    "- raw_bitcoin_prices - Stores raw price data points with timestamp\n",
    "- hourly_bitcoin_prices - Stores OHLC (Open, High, Low, Close) aggregated hourly data"
   ]
  },
  {
   "cell_type": "code",
   "execution_count": 80,
   "id": "59828308",
   "metadata": {},
   "outputs": [
    {
     "name": "stderr",
     "output_type": "stream",
     "text": [
      "INFO:bitcoin_rds_utils:Creating tables if they don't exist\n",
      "INFO:bitcoin_rds_utils:Connecting to RDS database\n",
      "INFO:bitcoin_rds_utils:Tables created successfully\n",
      "INFO:__main__:Tables are ready!\n"
     ]
    }
   ],
   "source": [
    "# Create tables if they don't exist\n",
    "try:\n",
    "    brds.create_tables_if_not_exist()\n",
    "    _LOG.info(\"Tables are ready!\")\n",
    "except Exception as e:\n",
    "    _LOG.error(f\"Error creating tables: {e}\")"
   ]
  },
  {
   "cell_type": "markdown",
   "id": "1791a055",
   "metadata": {},
   "source": [
    "## Fetch and Store Bitcoin Data"
   ]
  },
  {
   "cell_type": "markdown",
   "id": "0b078f1a",
   "metadata": {},
   "source": [
    "### Data Fetching\n",
    "Next, we'll fetch current Bitcoin price data from CoinGecko API and store it in our database."
   ]
  },
  {
   "cell_type": "code",
   "execution_count": 81,
   "id": "83666d80",
   "metadata": {},
   "outputs": [
    {
     "name": "stderr",
     "output_type": "stream",
     "text": [
      "INFO:bitcoin_rds_utils:Fetching Bitcoin data from CoinGecko\n",
      "INFO:__main__:Current Bitcoin price: $94,903.00\n",
      "INFO:__main__:24h Volume: $27,208,921,847.00\n",
      "INFO:__main__:Market Cap: $1,884,572,924,741.00\n"
     ]
    }
   ],
   "source": [
    "# Fetch Bitcoin data\n",
    "try:\n",
    "    bitcoin_data = brds.fetch_bitcoin_data_from_coingecko()\n",
    "    _LOG.info(f\"Current Bitcoin price: ${bitcoin_data['price_usd']:,.2f}\")\n",
    "    _LOG.info(f\"24h Volume: ${bitcoin_data['volume_usd']:,.2f}\")\n",
    "    _LOG.info(f\"Market Cap: ${bitcoin_data['market_cap_usd']:,.2f}\")\n",
    "    \n",
    "    # Display the data as a DataFrame for better visualization\n",
    "    df_current = pd.DataFrame([bitcoin_data])\n",
    "    df_current['timestamp'] = df_current['timestamp'].apply(lambda x: x.strftime('%Y-%m-%d %H:%M:%S'))\n",
    "    df_current\n",
    "except Exception as e:\n",
    "    _LOG.error(f\"Error fetching Bitcoin data: {e}\")"
   ]
  },
  {
   "cell_type": "markdown",
   "id": "3952cdd4",
   "metadata": {},
   "source": [
    "### Storing Data in RDS"
   ]
  },
  {
   "cell_type": "markdown",
   "id": "7b752afd",
   "metadata": {},
   "source": [
    "After fetching data, we can store it in our RDS database:"
   ]
  },
  {
   "cell_type": "code",
   "execution_count": 82,
   "id": "939954a8",
   "metadata": {},
   "outputs": [
    {
     "name": "stderr",
     "output_type": "stream",
     "text": [
      "INFO:bitcoin_rds_utils:Inserting raw Bitcoin data into database\n",
      "INFO:bitcoin_rds_utils:Connecting to RDS database\n",
      "INFO:bitcoin_rds_utils:Data inserted successfully with ID: 101\n",
      "INFO:__main__:Data stored successfully with ID: 101\n"
     ]
    }
   ],
   "source": [
    "# Store Bitcoin data in the database\n",
    "try:\n",
    "    record_id = brds.insert_raw_bitcoin_data(bitcoin_data)\n",
    "    _LOG.info(f\"Data stored successfully with ID: {record_id}\")\n",
    "except Exception as e:\n",
    "    _LOG.error(f\"Error storing data: {e}\")"
   ]
  },
  {
   "cell_type": "markdown",
   "id": "724dd31e",
   "metadata": {},
   "source": [
    "## Retrieve Historical Data"
   ]
  },
  {
   "cell_type": "markdown",
   "id": "f3e33312",
   "metadata": {},
   "source": [
    "### Simple Data Retrieval and Analysis\n",
    "Now we'll retrieve historical Bitcoin price data from our database and perform some basic analysis."
   ]
  },
  {
   "cell_type": "code",
   "execution_count": 83,
   "id": "a28bd949",
   "metadata": {},
   "outputs": [
    {
     "name": "stderr",
     "output_type": "stream",
     "text": [
      "INFO:bitcoin_rds_utils:Fetching historical Bitcoin data for the past 30 days\n",
      "INFO:bitcoin_rds_utils:Inserting raw Bitcoin data into database\n",
      "INFO:bitcoin_rds_utils:Connecting to RDS database\n",
      "INFO:bitcoin_rds_utils:Data inserted successfully with ID: 102\n",
      "INFO:bitcoin_rds_utils:Inserting raw Bitcoin data into database\n",
      "INFO:bitcoin_rds_utils:Connecting to RDS database\n",
      "INFO:bitcoin_rds_utils:Data inserted successfully with ID: 103\n",
      "INFO:bitcoin_rds_utils:Inserting raw Bitcoin data into database\n",
      "INFO:bitcoin_rds_utils:Connecting to RDS database\n",
      "INFO:bitcoin_rds_utils:Data inserted successfully with ID: 104\n",
      "INFO:bitcoin_rds_utils:Inserting raw Bitcoin data into database\n",
      "INFO:bitcoin_rds_utils:Connecting to RDS database\n",
      "INFO:bitcoin_rds_utils:Data inserted successfully with ID: 105\n",
      "INFO:bitcoin_rds_utils:Inserting raw Bitcoin data into database\n",
      "INFO:bitcoin_rds_utils:Connecting to RDS database\n",
      "INFO:bitcoin_rds_utils:Data inserted successfully with ID: 106\n",
      "INFO:bitcoin_rds_utils:Inserting raw Bitcoin data into database\n",
      "INFO:bitcoin_rds_utils:Connecting to RDS database\n",
      "INFO:bitcoin_rds_utils:Data inserted successfully with ID: 107\n",
      "INFO:bitcoin_rds_utils:Inserting raw Bitcoin data into database\n",
      "INFO:bitcoin_rds_utils:Connecting to RDS database\n",
      "INFO:bitcoin_rds_utils:Data inserted successfully with ID: 108\n",
      "INFO:bitcoin_rds_utils:Inserting raw Bitcoin data into database\n",
      "INFO:bitcoin_rds_utils:Connecting to RDS database\n",
      "INFO:bitcoin_rds_utils:Data inserted successfully with ID: 109\n",
      "INFO:bitcoin_rds_utils:Inserting raw Bitcoin data into database\n",
      "INFO:bitcoin_rds_utils:Connecting to RDS database\n",
      "INFO:bitcoin_rds_utils:Data inserted successfully with ID: 110\n",
      "INFO:bitcoin_rds_utils:Inserting raw Bitcoin data into database\n",
      "INFO:bitcoin_rds_utils:Connecting to RDS database\n",
      "INFO:bitcoin_rds_utils:Data inserted successfully with ID: 111\n",
      "INFO:bitcoin_rds_utils:Inserting raw Bitcoin data into database\n",
      "INFO:bitcoin_rds_utils:Connecting to RDS database\n",
      "INFO:bitcoin_rds_utils:Data inserted successfully with ID: 112\n",
      "INFO:bitcoin_rds_utils:Inserting raw Bitcoin data into database\n",
      "INFO:bitcoin_rds_utils:Connecting to RDS database\n",
      "INFO:bitcoin_rds_utils:Data inserted successfully with ID: 113\n",
      "INFO:bitcoin_rds_utils:Inserting raw Bitcoin data into database\n",
      "INFO:bitcoin_rds_utils:Connecting to RDS database\n",
      "INFO:bitcoin_rds_utils:Data inserted successfully with ID: 114\n",
      "INFO:bitcoin_rds_utils:Inserting raw Bitcoin data into database\n",
      "INFO:bitcoin_rds_utils:Connecting to RDS database\n",
      "INFO:bitcoin_rds_utils:Data inserted successfully with ID: 115\n",
      "INFO:bitcoin_rds_utils:Inserting raw Bitcoin data into database\n",
      "INFO:bitcoin_rds_utils:Connecting to RDS database\n",
      "INFO:bitcoin_rds_utils:Data inserted successfully with ID: 116\n",
      "INFO:bitcoin_rds_utils:Inserting raw Bitcoin data into database\n",
      "INFO:bitcoin_rds_utils:Connecting to RDS database\n",
      "INFO:bitcoin_rds_utils:Data inserted successfully with ID: 117\n",
      "INFO:bitcoin_rds_utils:Inserting raw Bitcoin data into database\n",
      "INFO:bitcoin_rds_utils:Connecting to RDS database\n",
      "INFO:bitcoin_rds_utils:Data inserted successfully with ID: 118\n",
      "INFO:bitcoin_rds_utils:Inserting raw Bitcoin data into database\n",
      "INFO:bitcoin_rds_utils:Connecting to RDS database\n",
      "INFO:bitcoin_rds_utils:Data inserted successfully with ID: 119\n",
      "INFO:bitcoin_rds_utils:Inserting raw Bitcoin data into database\n",
      "INFO:bitcoin_rds_utils:Connecting to RDS database\n",
      "INFO:bitcoin_rds_utils:Data inserted successfully with ID: 120\n",
      "INFO:bitcoin_rds_utils:Inserting raw Bitcoin data into database\n",
      "INFO:bitcoin_rds_utils:Connecting to RDS database\n",
      "INFO:bitcoin_rds_utils:Data inserted successfully with ID: 121\n",
      "INFO:bitcoin_rds_utils:Inserting raw Bitcoin data into database\n",
      "INFO:bitcoin_rds_utils:Connecting to RDS database\n",
      "INFO:bitcoin_rds_utils:Data inserted successfully with ID: 122\n",
      "INFO:bitcoin_rds_utils:Inserting raw Bitcoin data into database\n",
      "INFO:bitcoin_rds_utils:Connecting to RDS database\n",
      "INFO:bitcoin_rds_utils:Data inserted successfully with ID: 123\n",
      "INFO:bitcoin_rds_utils:Inserting raw Bitcoin data into database\n",
      "INFO:bitcoin_rds_utils:Connecting to RDS database\n",
      "INFO:bitcoin_rds_utils:Data inserted successfully with ID: 124\n",
      "INFO:bitcoin_rds_utils:Inserting raw Bitcoin data into database\n",
      "INFO:bitcoin_rds_utils:Connecting to RDS database\n",
      "INFO:bitcoin_rds_utils:Data inserted successfully with ID: 125\n",
      "INFO:bitcoin_rds_utils:Inserting raw Bitcoin data into database\n",
      "INFO:bitcoin_rds_utils:Connecting to RDS database\n",
      "INFO:bitcoin_rds_utils:Data inserted successfully with ID: 126\n",
      "INFO:bitcoin_rds_utils:Inserting raw Bitcoin data into database\n",
      "INFO:bitcoin_rds_utils:Connecting to RDS database\n",
      "INFO:bitcoin_rds_utils:Data inserted successfully with ID: 127\n",
      "INFO:bitcoin_rds_utils:Inserting raw Bitcoin data into database\n",
      "INFO:bitcoin_rds_utils:Connecting to RDS database\n",
      "INFO:bitcoin_rds_utils:Data inserted successfully with ID: 128\n",
      "INFO:bitcoin_rds_utils:Inserting raw Bitcoin data into database\n",
      "INFO:bitcoin_rds_utils:Connecting to RDS database\n",
      "INFO:bitcoin_rds_utils:Data inserted successfully with ID: 129\n",
      "INFO:bitcoin_rds_utils:Inserting raw Bitcoin data into database\n",
      "INFO:bitcoin_rds_utils:Connecting to RDS database\n",
      "INFO:bitcoin_rds_utils:Data inserted successfully with ID: 130\n",
      "INFO:bitcoin_rds_utils:Inserting raw Bitcoin data into database\n",
      "INFO:bitcoin_rds_utils:Connecting to RDS database\n",
      "INFO:bitcoin_rds_utils:Data inserted successfully with ID: 131\n",
      "INFO:bitcoin_rds_utils:Inserting raw Bitcoin data into database\n",
      "INFO:bitcoin_rds_utils:Connecting to RDS database\n",
      "INFO:bitcoin_rds_utils:Data inserted successfully with ID: 132\n",
      "INFO:bitcoin_rds_utils:Successfully inserted 31 historical records\n",
      "INFO:__main__:Added 31 historical data points\n"
     ]
    }
   ],
   "source": [
    "# Fetch 30 days of historical data\n",
    "try:\n",
    "    records_inserted = brds.fetch_and_store_historical_bitcoin_data(days=30)\n",
    "    _LOG.info(f\"Added {records_inserted} historical data points\")\n",
    "except Exception as e:\n",
    "    _LOG.error(f\"Error fetching historical data: {e}\")"
   ]
  },
  {
   "cell_type": "markdown",
   "id": "07eff573",
   "metadata": {},
   "source": [
    "### Retrieving Data from RDS"
   ]
  },
  {
   "cell_type": "markdown",
   "id": "e4194c68",
   "metadata": {},
   "source": [
    "We can retrieve stored data for analysis:"
   ]
  },
  {
   "cell_type": "code",
   "execution_count": 84,
   "id": "1d62fbbb",
   "metadata": {},
   "outputs": [
    {
     "name": "stderr",
     "output_type": "stream",
     "text": [
      "INFO:bitcoin_rds_utils:Retrieving 30 days of Bitcoin price history\n",
      "INFO:bitcoin_rds_utils:Connecting to RDS database\n",
      "INFO:bitcoin_rds_utils:Retrieved 131 records of Bitcoin price history\n",
      "INFO:__main__:Retrieved 131 records\n"
     ]
    }
   ],
   "source": [
    "# Retrieve Bitcoin price history (specify days to get all historical data)\n",
    "try:\n",
    "    df_history = brds.get_bitcoin_price_history(days=30)\n",
    "    _LOG.info(f\"Retrieved {len(df_history)} records\")\n",
    "    \n",
    "    # Display the first few rows\n",
    "    df_history.head()\n",
    "except Exception as e:\n",
    "    _LOG.error(f\"Error retrieving price history: {e}\")"
   ]
  },
  {
   "cell_type": "markdown",
   "id": "c882fdf3",
   "metadata": {},
   "source": [
    "## Basic Analysis Functions"
   ]
  },
  {
   "cell_type": "markdown",
   "id": "2d124c74",
   "metadata": {},
   "source": [
    "### Hourly Data Aggregation"
   ]
  },
  {
   "cell_type": "markdown",
   "id": "ddf623b2",
   "metadata": {},
   "source": [
    "Raw price data can be aggregated into hourly OHLC format:"
   ]
  },
  {
   "cell_type": "code",
   "execution_count": 85,
   "id": "cb89bfab",
   "metadata": {},
   "outputs": [
    {
     "name": "stderr",
     "output_type": "stream",
     "text": [
      "INFO:bitcoin_rds_utils:Aggregating hourly Bitcoin data\n",
      "INFO:bitcoin_rds_utils:Connecting to RDS database\n",
      "INFO:bitcoin_rds_utils:Aggregating 2 hours of data\n",
      "INFO:bitcoin_rds_utils:Hourly data aggregated successfully\n",
      "INFO:__main__:Hourly data aggregated successfully\n",
      "INFO:bitcoin_rds_utils:Connecting to RDS database\n"
     ]
    }
   ],
   "source": [
    "# Aggregate hourly data\n",
    "try:\n",
    "    brds.aggregate_hourly_data()\n",
    "    _LOG.info(\"Hourly data aggregated successfully\")\n",
    "    \n",
    "    # Query the hourly data to verify\n",
    "    conn = brds.get_db_connection()\n",
    "    hourly_query = \"\"\"\n",
    "    SELECT timestamp, open_price_usd, high_price_usd, low_price_usd, close_price_usd, volume_usd\n",
    "    FROM hourly_bitcoin_prices\n",
    "    ORDER BY timestamp DESC\n",
    "    LIMIT 5;\n",
    "    \"\"\"\n",
    "    df_hourly = pd.read_sql_query(hourly_query, conn)\n",
    "    conn.close()\n",
    "    \n",
    "    # Display the hourly data\n",
    "    df_hourly\n",
    "except Exception as e:\n",
    "    _LOG.error(f\"Error with hourly aggregation: {e}\")"
   ]
  },
  {
   "cell_type": "markdown",
   "id": "82355a29",
   "metadata": {},
   "source": [
    "#### Time Series Analysis"
   ]
  },
  {
   "cell_type": "markdown",
   "id": "0f1c20fb",
   "metadata": {},
   "source": [
    "Calculate moving averages to identify trends:"
   ]
  },
  {
   "cell_type": "code",
   "execution_count": 86,
   "id": "55840965",
   "metadata": {},
   "outputs": [
    {
     "name": "stderr",
     "output_type": "stream",
     "text": [
      "INFO:bitcoin_rds_utils:Calculating 24-hour moving average\n"
     ]
    }
   ],
   "source": [
    "# Calculate moving averages\n",
    "try:\n",
    "    if len(df_history) > 24:  # Need at least 24 data points for a 24-hour MA\n",
    "        # Calculate moving averages\n",
    "        df_with_ma = brds.calculate_moving_average(df_history, window=24)\n",
    "        \n",
    "        # Display the data with moving average\n",
    "        df_with_ma.tail()\n",
    "    else:\n",
    "        _LOG.warning(\"Not enough data for moving average calculation.\")\n",
    "except Exception as e:\n",
    "    _LOG.error(f\"Error calculating moving averages: {e}\")"
   ]
  },
  {
   "cell_type": "markdown",
   "id": "36285a7c",
   "metadata": {},
   "source": [
    "## Basic Visualization"
   ]
  },
  {
   "cell_type": "markdown",
   "id": "bf567a82",
   "metadata": {},
   "source": [
    "Visualize the price data to understand trends:"
   ]
  },
  {
   "cell_type": "code",
   "execution_count": 87,
   "id": "f2be73d3",
   "metadata": {},
   "outputs": [
    {
     "data": {
      "image/png": "[encoded data removed]",
      "text/plain": [
       "<Figure size 1000x500 with 1 Axes>"
      ]
     },
     "metadata": {},
     "output_type": "display_data"
    }
   ],
   "source": [
    "# Basic price visualization\n",
    "if len(df_history) > 0:\n",
    "    plt.figure(figsize=(10, 5))\n",
    "    plt.plot(df_history['timestamp'], df_history['price_usd'])\n",
    "    plt.title('Bitcoin Price History')\n",
    "    plt.xlabel('Date')\n",
    "    plt.ylabel('Price (USD)')\n",
    "    plt.grid(True)\n",
    "    plt.xticks(rotation=45)\n",
    "    plt.tight_layout()\n",
    "    plt.show()\n",
    "else:\n",
    "    _LOG.warning(\"Not enough data for visualization.\")"
   ]
  }
 ],
 "metadata": {
  "kernelspec": {
   "display_name": "client_venv.helpers",
   "language": "python",
   "name": "python3"
  },
  "language_info": {
   "codemirror_mode": {
    "name": "ipython",
    "version": 3
   },
   "file_extension": ".py",
   "mimetype": "text/x-python",
   "name": "python",
   "nbconvert_exporter": "python",
   "pygments_lexer": "ipython3",
   "version": "3.12.3"
  }
 },
 "nbformat": 4,
 "nbformat_minor": 5
}
