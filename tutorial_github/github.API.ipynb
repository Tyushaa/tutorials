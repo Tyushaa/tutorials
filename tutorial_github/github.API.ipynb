{
    "cells": [
        {
            "cell_type": "markdown",
            "metadata": {},
            "source": [
                "# GitHub API Tutorial\n",
                "\n",
                "**Overview:**\n",
                "In this notebook you'll learn how to:\n",
                "- Connect to the GitHub API using a Python client.\n",
                "- Retrieve valuable repository insights such as commit history, pull request statistics, and contributor details.\n",
                "- Perform analytics on repository activity over a given time frame.\n",
                "\n",
                "**Why Use This Notebook?**\n",
                "- Automate repository monitoring for contributions and updates.\n",
                "- Gain insights into open, closed, and unmerged pull requests.\n",
                "- Track commit frequency and user contributions.\n",
                "\n",
                "**Requirements:**\n",
                "- A valid GitHub Personal Access Token (PAT) with appropriate permissions."
            ]
        },
        {
            "cell_type": "markdown",
            "id": "d85dfd7c",
            "metadata": {},
            "source": [
                "## Setup\n",
                "\n",
                "Before proceeding with API calls, ensure that your environment is correctly set up.\n",
                "\n",
                "### 1. Install Dependencies\n",
                "You need to install `PyGithub`, and `tqdm` to interact with GitHub and track progress."
            ]
        },
        {
            "cell_type": "code",
            "execution_count": null,
            "id": "674b4c9f",
            "metadata": {},
            "outputs": [
                {
                    "name": "stdout",
                    "output_type": "stream",
                    "text": [
                        "Requirement already satisfied: PyGithub in /opt/homebrew/Cellar/jupyterlab/4.2.5_1/libexec/lib/python3.12/site-packages (2.6.1)\n",
                        "Requirement already satisfied: tqdm in /opt/homebrew/Cellar/jupyterlab/4.2.5_1/libexec/lib/python3.12/site-packages (4.67.1)\n",
                        "Requirement already satisfied: pynacl>=1.4.0 in /opt/homebrew/Cellar/jupyterlab/4.2.5_1/libexec/lib/python3.12/site-packages (from PyGithub) (1.5.0)\n",
                        "Requirement already satisfied: requests>=2.14.0 in /opt/homebrew/Cellar/jupyterlab/4.2.5_1/libexec/lib/python3.12/site-packages (from PyGithub) (2.32.3)\n",
                        "Requirement already satisfied: pyjwt>=2.4.0 in /opt/homebrew/Cellar/jupyterlab/4.2.5_1/libexec/lib/python3.12/site-packages (from pyjwt[crypto]>=2.4.0->PyGithub) (2.10.1)\n",
                        "Requirement already satisfied: typing-extensions>=4.0.0 in /opt/homebrew/Cellar/jupyterlab/4.2.5_1/libexec/lib/python3.12/site-packages (from PyGithub) (4.12.2)\n",
                        "Requirement already satisfied: urllib3>=1.26.0 in /opt/homebrew/Cellar/jupyterlab/4.2.5_1/libexec/lib/python3.12/site-packages (from PyGithub) (2.2.2)\n",
                        "Requirement already satisfied: Deprecated in /opt/homebrew/Cellar/jupyterlab/4.2.5_1/libexec/lib/python3.12/site-packages (from PyGithub) (1.2.18)\n",
                        "Requirement already satisfied: cryptography>=3.4.0 in /opt/homebrew/Cellar/jupyterlab/4.2.5_1/libexec/lib/python3.12/site-packages (from pyjwt[crypto]>=2.4.0->PyGithub) (44.0.1)\n",
                        "Requirement already satisfied: cffi>=1.4.1 in /opt/homebrew/Cellar/jupyterlab/4.2.5_1/libexec/lib/python3.12/site-packages (from pynacl>=1.4.0->PyGithub) (1.17.0)\n",
                        "Requirement already satisfied: charset-normalizer<4,>=2 in /opt/homebrew/Cellar/jupyterlab/4.2.5_1/libexec/lib/python3.12/site-packages (from requests>=2.14.0->PyGithub) (3.3.2)\n",
                        "Requirement already satisfied: idna<4,>=2.5 in /opt/homebrew/Cellar/jupyterlab/4.2.5_1/libexec/lib/python3.12/site-packages (from requests>=2.14.0->PyGithub) (3.8)\n",
                        "Requirement already satisfied: certifi>=2017.4.17 in /opt/homebrew/opt/certifi/lib/python3.12/site-packages (from requests>=2.14.0->PyGithub) (2024.8.30)\n",
                        "Requirement already satisfied: wrapt<2,>=1.10 in /opt/homebrew/Cellar/jupyterlab/4.2.5_1/libexec/lib/python3.12/site-packages (from Deprecated->PyGithub) (1.17.2)\n",
                        "Requirement already satisfied: pycparser in /opt/homebrew/Cellar/jupyterlab/4.2.5_1/libexec/lib/python3.12/site-packages (from cffi>=1.4.1->pynacl>=1.4.0->PyGithub) (2.22)\n",
                        "\n",
                        "\u001b[1m[\u001b[0m\u001b[34;49mnotice\u001b[0m\u001b[1;39;49m]\u001b[0m\u001b[39;49m A new release of pip is available: \u001b[0m\u001b[31;49m24.2\u001b[0m\u001b[39;49m -> \u001b[0m\u001b[32;49m25.0.1\u001b[0m\n",
                        "\u001b[1m[\u001b[0m\u001b[34;49mnotice\u001b[0m\u001b[1;39;49m]\u001b[0m\u001b[39;49m To update, run: \u001b[0m\u001b[32;49m/opt/homebrew/Cellar/jupyterlab/4.2.5_1/libexec/bin/python -m pip install --upgrade pip\u001b[0m\n",
                        "Note: you may need to restart the kernel to use updated packages.\n"
                    ]
                }
            ],
            "source": [
                "%pip install PyGithub tqdm"
            ]
        },
        {
            "cell_type": "markdown",
            "id": "a48c7057",
            "metadata": {},
            "source": [
                "### 2. Import Required Modules\n",
                "Import the necessary libraries:"
            ]
        },
        {
            "cell_type": "code",
            "execution_count": null,
            "id": "a20a881c",
            "metadata": {},
            "outputs": [],
            "source": [
                "import os\n",
                "import logging\n",
                "import utils\n",
                "import pandas as pd\n",
                "from github import Github\n",
                "from datetime import datetime, timedelta\n",
                "\n",
                "# Enable logging.\n",
                "logging.basicConfig(level=logging.INFO)\n",
                "_LOG = logging.getLogger(__name__)"
            ]
        },
        {
            "cell_type": "markdown",
            "id": "66434834",
            "metadata": {},
            "source": [
                "### 3. Set Up GitHub Authentication\n",
                "Store your **GitHub Personal Access Token (PAT)** as an environment variable for security. You can do this in your terminal:\n",
                "\n",
                "```sh\n",
                "export GITHUB_ACCESS_TOKEN=\"your_personal_access_token\"\n",
                "```\n",
                "\n",
                "Alternatively, you can set it within the notebook:"
            ]
        },
        {
            "cell_type": "code",
            "execution_count": null,
            "id": "169075e9",
            "metadata": {},
            "outputs": [],
            "source": [
                "# Set your GitHub access token here.\n",
                "os.environ[\"GITHUB_ACCESS_TOKEN\"] = \"your_personal_access_token\"\n",
                "\n",
                "# Retrieve it when needed.\n",
                "access_token = os.getenv(\"GITHUB_ACCESS_TOKEN\")\n",
                "\n",
                "# Ensure the token is set correctly.\n",
                "if not access_token:\n",
                "    raise ValueError(\"GitHub Access Token is not set. Please configure it before proceeding.\")"
            ]
        },
        {
            "cell_type": "markdown",
            "id": "e895c216",
            "metadata": {},
            "source": [
                "Now, you're ready to interact with the GitHub API!"
            ]
        },
        {
            "cell_type": "markdown",
            "metadata": {},
            "source": [
                "## Define Config\n",
                "Here we define all parameters in a single `config` dictionary.\n",
                "You can easily modify:\n",
                "- The `org_name` to analyze a different GitHub organization.\n",
                "- The `start_date` and `end_date` to change the timeframe."
            ]
        },
        {
            "cell_type": "code",
            "execution_count": null,
            "metadata": {},
            "outputs": [],
            "source": [
                "# Define the configuration settings.\n",
                "config = {\n",
                "    # Replace with actual GitHub organization or username.\n",
                "    \"org_name\": \"causify-ai\",  \n",
                "    \"start_date\": (datetime(2025, 1, 20)),\n",
                "    \"end_date\": (datetime(2025, 2, 25)),\n",
                "    # Load from environment variable.\n",
                "    \"access_token\": access_token,  \n",
                "}"
            ]
        },
        {
            "cell_type": "markdown",
            "metadata": {},
            "source": [
                "## Initialize GitHub Client"
            ]
        },
        {
            "cell_type": "code",
            "execution_count": null,
            "metadata": {},
            "outputs": [
                {
                    "name": "stdout",
                    "output_type": "stream",
                    "text": [
                        "Successfully authenticated as: Prahar08modi\n"
                    ]
                }
            ],
            "source": [
                "# Initialize the GitHub client using the access token from the config.\n",
                "client = Github(config[\"access_token\"])\n",
                "\n",
                "# Verify authentication by retrieving the authenticated user.\n",
                "try:\n",
                "    authenticated_user = client.get_user().login\n",
                "    print(f\"Successfully authenticated as: {authenticated_user}\")\n",
                "except Exception as e:\n",
                "    print(f\"Authentication failed: {e}\")"
            ]
        },
        {
            "cell_type": "markdown",
            "metadata": {},
            "source": [
                "## Fetch Repositories for the Organization\n",
                "\n",
                "The `get_repo_names` function retrieves all repositories within a specified GitHub organization. This helps in identifying available repositories before analyzing commits or pull requests."
            ]
        },
        {
            "cell_type": "code",
            "execution_count": null,
            "metadata": {},
            "outputs": [
                {
                    "data": {
                        "text/plain": [
                            "{'owner': 'causify-ai',\n",
                            " 'repositories': ['dev_tools', 'cmamp', 'kaizenflow', 'helpers', 'tutorials']}"
                        ]
                    },
                    "execution_count": 7,
                    "metadata": {},
                    "output_type": "execute_result"
                }
            ],
            "source": [
                "repos_info = utils.get_repo_names(client, config[\"org_name\"])\n",
                "repos_info"
            ]
        },
        {
            "cell_type": "markdown",
            "metadata": {},
            "source": [
                "## Fetch Commit Statistics\n",
                "\n",
                "The `get_total_commits` function allows us to retrieve the number of commits made in the repositories of a specified GitHub organization. \n",
                "\n",
                "### **Usage**\n",
                "- You can fetch **all commits** made during a specific time range.\n",
                "- Additionally, you can **filter commits by specific users** to analyze individual contributions.\n",
                "\n",
                "### **Parameters**\n",
                "- `client` (*Github*): The authenticated GitHub API client.\n",
                "- `org_name` (*str*): The GitHub organization name.\n",
                "- `period` (*Optional[Tuple[datetime, datetime]]*): A tuple containing `start_date` and `end_date`.\n",
                "- `usernames` (*Optional[List[str]]*): A list of GitHub usernames to filter commits by specific users."
            ]
        },
        {
            "cell_type": "code",
            "execution_count": null,
            "metadata": {},
            "outputs": [
                {
                    "data": {
                        "text/plain": [
                            "{'total_commits': 137,\n",
                            " 'period': '2025-01-20 00:00:00 to 2025-02-25 00:00:00',\n",
                            " 'commits_per_repository': {'dev_tools': 0,\n",
                            "  'cmamp': 85,\n",
                            "  'kaizenflow': 0,\n",
                            "  'helpers': 36,\n",
                            "  'tutorials': 16}}"
                        ]
                    },
                    "execution_count": 17,
                    "metadata": {},
                    "output_type": "execute_result"
                }
            ],
            "source": [
                "commit_stats = utils.get_total_commits(\n",
                "    client, \n",
                "    config[\"org_name\"], \n",
                "    period=(config[\"start_date\"], \n",
                "    config[\"end_date\"]))\n",
                "commit_stats"
            ]
        },
        {
            "cell_type": "code",
            "execution_count": null,
            "id": "d285ac97",
            "metadata": {},
            "outputs": [
                {
                    "data": {
                        "text/plain": [
                            "{'total_commits': 33,\n",
                            " 'period': '2025-01-20 00:00:00 to 2025-02-25 00:00:00',\n",
                            " 'commits_per_repository': {'dev_tools': 0,\n",
                            "  'cmamp': 18,\n",
                            "  'kaizenflow': 0,\n",
                            "  'helpers': 11,\n",
                            "  'tutorials': 4}}"
                        ]
                    },
                    "execution_count": 19,
                    "metadata": {},
                    "output_type": "execute_result"
                }
            ],
            "source": [
                "commit_stats_filtered = utils.get_total_commits(\n",
                "    client, \n",
                "    config[\"org_name\"], \n",
                "    period=(config[\"start_date\"], config[\"end_date\"]),\n",
                "    # Replace with actual GitHub usernames.\n",
                "    github_names=[\"heanhsok\"]  \n",
                ")\n",
                "commit_stats_filtered"
            ]
        },
        {
            "cell_type": "markdown",
            "metadata": {},
            "source": [
                "## Fetch Pull Request Statistics\n",
                "\n",
                "The `get_total_prs` function retrieves the number of pull requests (PRs) made within the repositories of a specified GitHub organization. This function allows filtering PRs by state, author, and time period.\n",
                "\n",
                "### **Parameters**\n",
                "- `client` (*Github*): The authenticated GitHub API client.\n",
                "- `org_name` (*str*): The name of the GitHub organization.\n",
                "- `usernames` (*Optional[List[str]]*): A list of GitHub usernames to filter PRs. If `None`, fetches PRs from all users.\n",
                "- `period` (*Optional[Tuple[datetime, datetime]]*): A tuple containing `start_date` and `end_date` to filter PRs within a time range.\n",
                "- `state` (*str*, default=`'open'`): The state of the pull requests to fetch. Can be:\n",
                "  - `'open'`: Fetch only open PRs.\n",
                "  - `'closed'`: Fetch only closed PRs.\n",
                "  - `'all'`: Fetch all PRs."
            ]
        },
        {
            "cell_type": "code",
            "execution_count": null,
            "metadata": {},
            "outputs": [
                {
                    "name": "stderr",
                    "output_type": "stream",
                    "text": [
                        "Processing repositories: 100%|████████████████████████████████████████████████████████████████████████████████████████| 5/5 [02:33<00:00, 30.67s/repo]\n"
                    ]
                },
                {
                    "data": {
                        "text/plain": [
                            "{'total_prs': 148,\n",
                            " 'period': '2025-01-20 00:00:00+00:00 to 2025-02-25 00:00:00+00:00',\n",
                            " 'prs_per_repository': {'dev_tools': 0,\n",
                            "  'cmamp': 101,\n",
                            "  'kaizenflow': 1,\n",
                            "  'helpers': 36,\n",
                            "  'tutorials': 10}}"
                        ]
                    },
                    "execution_count": 20,
                    "metadata": {},
                    "output_type": "execute_result"
                }
            ],
            "source": [
                "pr_stats = utils.get_total_prs(\n",
                "    client, \n",
                "    config[\"org_name\"], \n",
                "    period=(config[\"start_date\"], config[\"end_date\"])\n",
                ")\n",
                "pr_stats"
            ]
        },
        {
            "cell_type": "markdown",
            "id": "e5223452",
            "metadata": {},
            "source": [
                "### Fetching Only Closed PRs"
            ]
        },
        {
            "cell_type": "code",
            "execution_count": null,
            "id": "54a8263a",
            "metadata": {},
            "outputs": [
                {
                    "name": "stderr",
                    "output_type": "stream",
                    "text": [
                        "Processing repositories: 100%|████████████████████████████████████████████████████████████████████████████████████████| 5/5 [02:38<00:00, 31.76s/repo]\n"
                    ]
                },
                {
                    "data": {
                        "text/plain": [
                            "{'total_prs': 116,\n",
                            " 'period': '2025-01-20 00:00:00+00:00 to 2025-02-25 00:00:00+00:00',\n",
                            " 'prs_per_repository': {'dev_tools': 0,\n",
                            "  'cmamp': 79,\n",
                            "  'kaizenflow': 1,\n",
                            "  'helpers': 29,\n",
                            "  'tutorials': 7}}"
                        ]
                    },
                    "execution_count": 21,
                    "metadata": {},
                    "output_type": "execute_result"
                }
            ],
            "source": [
                "pr_stats_closed = utils.get_total_prs(\n",
                "    client, \n",
                "    config[\"org_name\"], \n",
                "    period=(config[\"start_date\"], config[\"end_date\"]),\n",
                "    state=\"closed\"\n",
                ")\n",
                "pr_stats_closed"
            ]
        },
        {
            "cell_type": "markdown",
            "id": "14d1e20e",
            "metadata": {},
            "source": [
                "### Filtering PRs by Specific Users"
            ]
        },
        {
            "cell_type": "code",
            "execution_count": null,
            "id": "716c52d4",
            "metadata": {},
            "outputs": [
                {
                    "name": "stderr",
                    "output_type": "stream",
                    "text": [
                        "Processing repositories: 100%|████████████████████████████████████████████████████████████████████████████████████████| 5/5 [02:34<00:00, 30.92s/repo]\n"
                    ]
                },
                {
                    "data": {
                        "text/plain": [
                            "{'total_prs': 32,\n",
                            " 'period': '2025-01-20 00:00:00+00:00 to 2025-02-25 00:00:00+00:00',\n",
                            " 'prs_per_repository': {'dev_tools': 0,\n",
                            "  'cmamp': 20,\n",
                            "  'kaizenflow': 1,\n",
                            "  'helpers': 9,\n",
                            "  'tutorials': 2}}"
                        ]
                    },
                    "execution_count": 22,
                    "metadata": {},
                    "output_type": "execute_result"
                }
            ],
            "source": [
                "pr_stats_filtered = utils.get_total_prs(\n",
                "    client, \n",
                "    config[\"org_name\"], \n",
                "    period=(config[\"start_date\"], config[\"end_date\"]),\n",
                "    # Replace with actual GitHub usernames.\n",
                "    github_names=[\"heanhsok\"],  \n",
                "    state=\"closed\"\n",
                ")\n",
                "pr_stats_filtered"
            ]
        },
        {
            "cell_type": "markdown",
            "metadata": {},
            "source": [
                "## Fetch Unmerged Pull Requests\n",
                "\n",
                "The `get_prs_not_merged` function retrieves the count of **closed but unmerged** pull requests (PRs) within the repositories of a specified GitHub organization. This helps identify PRs that were closed without being merged, which could indicate rejected changes or abandoned contributions.\n",
                "\n",
                "### **Parameters**\n",
                "- `client` (*Github*): The authenticated GitHub API client.\n",
                "- `org_name` (*str*): The name of the GitHub organization.\n",
                "- `github_names` (*Optional[List[str]]*): A list of GitHub usernames to filter PRs. If `None`, fetches PRs from all users.\n",
                "- `period` (*Optional[Tuple[datetime, datetime]]*): A tuple containing `start_date` and `end_date` to filter PRs within a time range."
            ]
        },
        {
            "cell_type": "code",
            "execution_count": null,
            "id": "1f8a9227",
            "metadata": {},
            "outputs": [],
            "source": [
                "unmerged_prs = utils.get_prs_not_merged(\n",
                "    client, \n",
                "    config[\"org_name\"], \n",
                "    period=(config[\"start_date\"], config[\"end_date\"])\n",
                ")\n",
                "unmerged_prs"
            ]
        },
        {
            "cell_type": "markdown",
            "id": "06bf0d64",
            "metadata": {},
            "source": [
                "### Filtering by Specific Users"
            ]
        },
        {
            "cell_type": "code",
            "execution_count": null,
            "id": "3371b213",
            "metadata": {},
            "outputs": [],
            "source": [
                "unmerged_prs_filtered = utils.get_prs_not_merged(\n",
                "    client, \n",
                "    config[\"org_name\"], \n",
                "    period=(config[\"start_date\"], config[\"end_date\"]),\n",
                "    # Replace with actual GitHub usernames.\n",
                "    github_names=[\"heanhsok\"]  \n",
                ")\n",
                "unmerged_prs_filtered"
            ]
        }
    ],
    "metadata": {
        "kernelspec": {
            "display_name": "Python 3 (ipykernel)",
            "language": "python",
            "name": "python3"
        },
        "language_info": {
            "codemirror_mode": {
                "name": "ipython",
                "version": 3
            },
            "file_extension": ".py",
            "mimetype": "text/x-python",
            "name": "python",
            "nbconvert_exporter": "python",
            "pygments_lexer": "ipython3",
            "version": "3.12.5"
        }
    },
    "nbformat": 4,
    "nbformat_minor": 5
}
